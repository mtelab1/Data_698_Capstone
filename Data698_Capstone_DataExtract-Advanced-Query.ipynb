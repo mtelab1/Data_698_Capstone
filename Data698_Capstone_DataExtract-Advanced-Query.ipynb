{
 "cells": [
  {
   "cell_type": "code",
   "execution_count": 86,
   "id": "e2b302f0",
   "metadata": {},
   "outputs": [],
   "source": [
    "import numpy as np\n",
    "import matplotlib.pyplot as plt\n",
    "import pandas as pd\n",
    "from os.path import exists\n",
    "#https://docs.python.org/dev/library/pickle.html#module-pickle\n",
    "import pickle\n",
    "import re\n",
    "\n",
    "#https://mahrtayyab.github.io/tweety_docs/twDataTypes.html#media-section\n",
    "from tweety.bot import Twitter\n",
    "\n",
    "#https://geopandas.org/en/stable/docs/reference/api/geopandas.GeoSeries.distance.html#geopandas.GeoSeries.distance\n",
    "from tweety.filters import SearchFilters\n",
    "import pandas as pd\n",
    "from shapely.geometry import Point\n",
    "from shapely.geometry import Polygon\n",
    "import geopandas as gpd\n",
    "import geopy.distance\n",
    "import geoplot as gplt\n",
    "\n",
    "#https://github.com/clips/pattern/wiki\n",
    "import pattern as ptrn\n",
    "from pattern.web import Twitter as PatternTwitter\n",
    "from pattern.en import tag\n",
    "from pattern.vector import KNN, count\n",
    "\n",
    "#https://www.nltk.org/howto/sentiment.html\n",
    "from nltk.classify import NaiveBayesClassifier\n",
    "from nltk.corpus import subjectivity\n",
    "from nltk.sentiment import SentimentAnalyzer\n",
    "from nltk.sentiment.vader import SentimentIntensityAnalyzer\n",
    "from nltk.sentiment.util import *\n",
    "\n",
    "#https://github.com/RaRe-Technologies/gensim/#documentation\n",
    "# Gensim\n",
    "import gensim\n",
    "import gensim.corpora as corpora\n",
    "from gensim.utils import simple_preprocess\n",
    "from gensim.models import CoherenceModel\n",
    "\n",
    "#https://pypi.org/project/country-converter/\n",
    "import country_converter as coco\n",
    "cc = coco.CountryConverter()\n",
    "import logging\n",
    "logging.basicConfig(level=None)\n",
    "coco_logger = coco.logging.getLogger()\n",
    "coco_logger.setLevel(logging.CRITICAL)"
   ]
  },
  {
   "cell_type": "code",
   "execution_count": 2,
   "id": "d799b6f3",
   "metadata": {},
   "outputs": [],
   "source": [
    "def calc_tweet_place_geography(tweet_place):\n",
    "    if tweet_place != None:\n",
    "        if len(tweet_place.coordinates)>1:      \n",
    "            tweet_place_polygon_coord = Polygon([(loc['latitude'],loc['longitude']) for loc in tweet_place.coordinates])\n",
    "            tweet_place_centroid_coord = gpd.GeoSeries(tweet_place_polygon_coord).centroid[0]\n",
    "            tweet_place_coord = tweet_place_centroid_coord.x, tweet_place_centroid_coord.y\n",
    "            tweet_place_point = tweet_place_centroid_coord\n",
    "        else:\n",
    "            tweet_place_point = gpd.points_from_xy([tweet_place.coordinates[0].longitude],[tweet_place.coordinates[0].latitude], z=None, crs=None)[0]\n",
    "            tweet_place_coord = tweet_place.coordinates[0].latitude, tweet_place.coordinates[0].longitude\n",
    "        return tweet_place_point, tweet_place_coord\n",
    "    else:\n",
    "        tweet_place_coord = None\n",
    "\n",
    "    "
   ]
  },
  {
   "cell_type": "code",
   "execution_count": 3,
   "id": "fad66840",
   "metadata": {},
   "outputs": [],
   "source": [
    "def point_to_coord(point):\n",
    "    if point.is_empty == False:\n",
    "        tweet_user_home_coord = (point.y , point.x)\n",
    "        return tweet_user_home_coord\n",
    "    else:\n",
    "        tweet_user_home_coord = None\n",
    "        return tweet_user_home_coord\n"
   ]
  },
  {
   "cell_type": "code",
   "execution_count": 4,
   "id": "39b96a1c",
   "metadata": {},
   "outputs": [],
   "source": [
    "def coord_to_point(coord):\n",
    "    if coord != None:\n",
    "        long = float('{0:.9f}'.format(coord[1]))\n",
    "        lat = float('{0:.9f}'.format(coord[0]))\n",
    "        return gpd.points_from_xy([long],[lat], z=None, crs=None)[0]"
   ]
  },
  {
   "cell_type": "code",
   "execution_count": 5,
   "id": "7463fdda",
   "metadata": {},
   "outputs": [],
   "source": [
    "def expand_dict_column(df, column_name):\n",
    "    temp_df = pd.json_normalize(df[column_name], errors='ignore', sep='_', max_level=1).add_prefix(column_name+'_').set_index(df.index)\n",
    "    return pd.concat([df,temp_df], axis =1)"
   ]
  },
  {
   "cell_type": "code",
   "execution_count": 6,
   "id": "affc98cf",
   "metadata": {},
   "outputs": [],
   "source": [
    "def extract_df_from_tweet_search(tweet_search):\n",
    "    start = time.perf_counter()\n",
    "    #convert tweety search object to pandas df\n",
    "    raw_df = pd.DataFrame(data =tweet_search.tweets).drop_duplicates(subset = 'id').set_index('id')\n",
    "\n",
    "    #print(f\"Elapsed {(time.perf_counter()-start) }secs.\")\n",
    "    #process geographic parameters\n",
    "    raw_df['tweet_place_geom'] = raw_df['place'].apply(calc_tweet_place_geography)\n",
    "    #print(f\"Elapsed {(time.perf_counter()-start) }secs.\")\n",
    "    raw_df['tweet_place_point'] = raw_df['tweet_place_geom'].apply(lambda x : x[0] if x != None else None)\n",
    "    raw_df['tweet_place_coord'] = raw_df['tweet_place_geom'].apply(lambda x : x[1] if x != None else None)\n",
    "    raw_df['tweet_place_country'] = raw_df['place'].apply(lambda x: x.country if x != None else None)\n",
    "    raw_df['tweet_place_name'] = raw_df['place'].apply(lambda x: x.full_name if x != None else None)\n",
    "    raw_df['user_home'] = raw_df['author'].apply(lambda x: x.location)\n",
    "    #print(len(raw_df))\n",
    "    raw_df['user_home_geography'] = raw_df['user_home'].apply(lambda x : gpd.tools.geocode(x, provider='arcgis', timeout=None))\n",
    "    #print(f\"Elapsed {(time.perf_counter()-start) }secs.\")\n",
    "    #raw_df.loc[raw_df['user_home']!= None,['user_home_point','user_home_address']] = gpd.tools.geocode(pd.Series(raw_df.loc[raw_df['user_home']!= None,'user_home']), provider='arcgis', timeout=None)\n",
    "    #print(len(raw_df))\n",
    "    #print(f\"Elapsed {(time.perf_counter()-start) }secs.\")\n",
    "    raw_df['user_home_point'] = raw_df['user_home_geography'].apply(lambda x : x.geometry if isinstance(x, float)==False else None)\n",
    "    raw_df['user_home_address']= raw_df['user_home_geography'].apply(lambda x : x.address if isinstance(x, float)==False else None)\n",
    "    #raw_df['user_home_coord'] = raw_df['user_home_point'].apply(lambda x : point_to_coord(x) if isinstance(x, float)==False else None)\n",
    "   \n",
    "    raw_df['author'] =raw_df['author'].where(raw_df['author'].notna(), lambda x: [{}])\n",
    "    raw_df['place'] = raw_df['place'].where(raw_df['place'].notna(), lambda x: [{}])\n",
    "\n",
    "    raw_df = expand_dict_column(raw_df, 'author')\n",
    "    raw_df = expand_dict_column(raw_df, 'place')\n",
    "    return raw_df\n",
    "    #filter data for available user and tweet locations\n"
   ]
  },
  {
   "cell_type": "code",
   "execution_count": 62,
   "id": "0ba17d1a",
   "metadata": {},
   "outputs": [],
   "source": [
    "def convert_point_string(point_string):\n",
    "    point_string_cleaned = list(map(float,point_string.replace('(','').replace(')','').split(' ')[1:3]))\n",
    "    if len(point_string_cleaned)>1:\n",
    "        #print(point_string_cleaned)\n",
    "        point_converted = gpd.points_from_xy([point_string_cleaned[0]],[point_string_cleaned[1]])\n",
    "        #print(point_converted)\n",
    "        return point_converted[0]\n",
    "    else:\n",
    "        return None"
   ]
  },
  {
   "cell_type": "markdown",
   "id": "dac7a6d3",
   "metadata": {},
   "source": [
    "## Mine Tweets"
   ]
  },
  {
   "cell_type": "code",
   "execution_count": 8,
   "id": "8e76c5aa",
   "metadata": {},
   "outputs": [],
   "source": [
    "app = Twitter()"
   ]
  },
  {
   "cell_type": "code",
   "execution_count": 425,
   "id": "b2944086",
   "metadata": {},
   "outputs": [],
   "source": [
    "#users\n",
    "user_searches = app.search(\"travelblog -news geocode:39.8283,-95.712891,1500mi\",filter_=SearchFilters.Users(),pages = '200')"
   ]
  },
  {
   "cell_type": "code",
   "execution_count": 9,
   "id": "d9fbb11e",
   "metadata": {},
   "outputs": [
    {
     "ename": "NameError",
     "evalue": "name 'user_searches' is not defined",
     "output_type": "error",
     "traceback": [
      "\u001b[0;31m---------------------------------------------------------------------------\u001b[0m",
      "\u001b[0;31mNameError\u001b[0m                                 Traceback (most recent call last)",
      "\u001b[0;32m<ipython-input-9-a6a28e386c0a>\u001b[0m in \u001b[0;36m<module>\u001b[0;34m\u001b[0m\n\u001b[0;32m----> 1\u001b[0;31m \u001b[0mmavens\u001b[0m \u001b[0;34m=\u001b[0m \u001b[0mpd\u001b[0m\u001b[0;34m.\u001b[0m\u001b[0mDataFrame\u001b[0m\u001b[0;34m(\u001b[0m\u001b[0muser_searches\u001b[0m\u001b[0;34m.\u001b[0m\u001b[0musers\u001b[0m\u001b[0;34m)\u001b[0m\u001b[0;34m\u001b[0m\u001b[0;34m\u001b[0m\u001b[0m\n\u001b[0m\u001b[1;32m      2\u001b[0m \u001b[0mmavens\u001b[0m \u001b[0;34m=\u001b[0m \u001b[0mmavens\u001b[0m\u001b[0;34m[\u001b[0m\u001b[0mmavens\u001b[0m\u001b[0;34m.\u001b[0m\u001b[0mprotected\u001b[0m \u001b[0;34m==\u001b[0m \u001b[0;32mFalse\u001b[0m\u001b[0;34m]\u001b[0m\u001b[0;34m\u001b[0m\u001b[0;34m\u001b[0m\u001b[0m\n",
      "\u001b[0;31mNameError\u001b[0m: name 'user_searches' is not defined"
     ]
    }
   ],
   "source": [
    "mavens = pd.DataFrame(user_searches.users)\n",
    "mavens = mavens[mavens.protected == False]"
   ]
  },
  {
   "cell_type": "code",
   "execution_count": 12,
   "id": "58968a73",
   "metadata": {},
   "outputs": [
    {
     "name": "stdout",
     "output_type": "stream",
     "text": [
      "925\n"
     ]
    }
   ],
   "source": [
    "filename_user_df= 'user_df'\n",
    "\n",
    "if exists(filename_user_df):\n",
    "    user_df = pd.concat([pd.read_csv(filename_user_df)]).drop_duplicates()\n",
    "    user_df.to_csv(filename_user_df)\n",
    "else:\n",
    "    user_df = mavens\n",
    "    user_df.to_csv(filename_user_df)\n",
    "print(len(user_df))\n",
    "\n"
   ]
  },
  {
   "cell_type": "code",
   "execution_count": 13,
   "id": "e78704e2",
   "metadata": {},
   "outputs": [],
   "source": [
    "filename_user_df= 'user_df'\n",
    "\n",
    "mavens = pd.read_csv(filename_user_df)\n",
    "mavens = mavens[mavens.protected == False]"
   ]
  },
  {
   "cell_type": "code",
   "execution_count": 14,
   "id": "19f67d7b",
   "metadata": {},
   "outputs": [],
   "source": [
    "mavens_list = mavens.screen_name"
   ]
  },
  {
   "cell_type": "code",
   "execution_count": null,
   "id": "4b67238b",
   "metadata": {
    "scrolled": true
   },
   "outputs": [
    {
     "name": "stderr",
     "output_type": "stream",
     "text": [
      "<ipython-input-15-6471221bec02>:4: DtypeWarning: Columns (33,34,36,38,39,40,41,42,43,45,46,52,53,54,55,56,58,59,60,61,66,67,69,71,74,76,77,79,80,81,82,83,238,239,240,241,242,243,244,246,248,249,250,251,252,253,254,255,256,257,258,259,260,261,262,263,264,265,266,268,269,270,271,276,277,279,281,283,284,286,287,289,290,291,292,293,294,295,296,297,298,299,300) have mixed types. Specify dtype option on import or set low_memory=False.\n",
      "  written_data = pd.read_csv(filename)\n"
     ]
    },
    {
     "name": "stdout",
     "output_type": "stream",
     "text": [
      "PersnicketyKit\n",
      "69021\n",
      "humblebragblog\n",
      "69021\n",
      "J3Travelblog\n",
      "69021\n",
      "travelblog50\n",
      "69021\n",
      "DEN_travelblog\n",
      "69021\n",
      "us_travelblog\n",
      "69021\n",
      "urbangardens\n",
      "69021\n",
      "BadassBackpack\n",
      "69021\n",
      "emeraldpalate\n",
      "69021\n",
      "familyfocusblog\n",
      "69021\n",
      "GLOBE_WATCHERS\n"
     ]
    },
    {
     "name": "stderr",
     "output_type": "stream",
     "text": [
      "/Users/mustafatelab/opt/anaconda3/lib/python3.8/site-packages/geopandas/array.py:275: ShapelyDeprecationWarning: The array interface is deprecated and will no longer work in Shapely 2.0. Convert the '.coords' to a numpy array instead.\n",
      "  return GeometryArray(vectorized.points_from_xy(x, y, z), crs=crs)\n",
      "/Users/mustafatelab/opt/anaconda3/lib/python3.8/site-packages/geopandas/array.py:275: ShapelyDeprecationWarning: The array interface is deprecated and will no longer work in Shapely 2.0. Convert the '.coords' to a numpy array instead.\n",
      "  return GeometryArray(vectorized.points_from_xy(x, y, z), crs=crs)\n",
      "/Users/mustafatelab/opt/anaconda3/lib/python3.8/site-packages/geopandas/array.py:275: ShapelyDeprecationWarning: The array interface is deprecated and will no longer work in Shapely 2.0. Convert the '.coords' to a numpy array instead.\n",
      "  return GeometryArray(vectorized.points_from_xy(x, y, z), crs=crs)\n",
      "/Users/mustafatelab/opt/anaconda3/lib/python3.8/site-packages/geopandas/array.py:275: ShapelyDeprecationWarning: The array interface is deprecated and will no longer work in Shapely 2.0. Convert the '.coords' to a numpy array instead.\n",
      "  return GeometryArray(vectorized.points_from_xy(x, y, z), crs=crs)\n",
      "/Users/mustafatelab/opt/anaconda3/lib/python3.8/site-packages/geopandas/array.py:275: ShapelyDeprecationWarning: The array interface is deprecated and will no longer work in Shapely 2.0. Convert the '.coords' to a numpy array instead.\n",
      "  return GeometryArray(vectorized.points_from_xy(x, y, z), crs=crs)\n",
      "/Users/mustafatelab/opt/anaconda3/lib/python3.8/site-packages/geopandas/array.py:275: ShapelyDeprecationWarning: The array interface is deprecated and will no longer work in Shapely 2.0. Convert the '.coords' to a numpy array instead.\n",
      "  return GeometryArray(vectorized.points_from_xy(x, y, z), crs=crs)\n",
      "/Users/mustafatelab/opt/anaconda3/lib/python3.8/site-packages/geopandas/array.py:275: ShapelyDeprecationWarning: The array interface is deprecated and will no longer work in Shapely 2.0. Convert the '.coords' to a numpy array instead.\n",
      "  return GeometryArray(vectorized.points_from_xy(x, y, z), crs=crs)\n",
      "/Users/mustafatelab/opt/anaconda3/lib/python3.8/site-packages/geopandas/array.py:275: ShapelyDeprecationWarning: The array interface is deprecated and will no longer work in Shapely 2.0. Convert the '.coords' to a numpy array instead.\n",
      "  return GeometryArray(vectorized.points_from_xy(x, y, z), crs=crs)\n",
      "<ipython-input-15-6471221bec02>:20: DtypeWarning: Columns (33,34,36,38,39,40,41,42,43,45,46,52,53,54,55,56,58,59,60,61,66,67,69,71,74,76,77,79,80,81,82,83,238,239,240,241,242,243,244,246,248,249,250,251,252,253,254,255,256,257,258,259,260,261,262,263,264,265,266,268,269,270,271,276,277,279,281,283,284,286,287,289,290,291,292,293,294,295,296,297,298,299,300) have mixed types. Specify dtype option on import or set low_memory=False.\n",
      "  written_data = pd.read_csv(filename)\n"
     ]
    },
    {
     "name": "stdout",
     "output_type": "stream",
     "text": [
      "Index(['id', 'created_on', 'author', 'is_retweet', 'is_reply', 'tweet_body',\n",
      "       'text', 'language', 'likes', 'place', 'retweet_counts', 'source',\n",
      "       'media', 'user_mentions', 'urls', 'hashtags', 'symbols', 'reply_to',\n",
      "       'threads', 'comments', 'tweet_place_geom', 'tweet_place_point',\n",
      "       'tweet_place_coord', 'tweet_place_country', 'tweet_place_name',\n",
      "       'user_home', 'user_home_geography', 'user_home_point',\n",
      "       'user_home_address', 'author_id', 'author_rest_id', 'author_created_at',\n",
      "       'author_default_profile', 'author_default_profile_image',\n",
      "       'author_description', 'author_fast_followers_count',\n",
      "       'author_favourites_count', 'author_followers_count',\n",
      "       'author_friends_count', 'author_has_custom_timelines',\n",
      "       'author_is_translator', 'author_listed_count', 'author_location',\n",
      "       'author_media_count', 'author_name', 'author_normal_followers_count',\n",
      "       'author_profile_banner_url', 'author_profile_image_url_https',\n",
      "       'author_profile_interstitial_type', 'author_protected',\n",
      "       'author_screen_name', 'author_statuses_count', 'author_translator_type',\n",
      "       'author_verified', 'author_profile_url', 'author_entities_description',\n",
      "       'author_entities_url', 'place_id', 'place_country',\n",
      "       'place_country_code', 'place_full_name', 'place_name', 'place_url',\n",
      "       'place_coordinates'],\n",
      "      dtype='object')\n",
      "69137\n",
      "TNE_TravelBlog\n"
     ]
    },
    {
     "name": "stderr",
     "output_type": "stream",
     "text": [
      "<ipython-input-15-6471221bec02>:20: DtypeWarning: Columns (34,35,37,39,40,41,42,43,44,46,47,53,54,55,56,57,59,60,61,62,67,68,70,72,75,77,78,80,81,82,83,84,239,240,241,242,243,244,245,247,249,250,251,252,253,254,255,256,257,258,259,260,261,262,263,264,265,266,267,269,270,271,272,277,278,280,282,284,285,287,288,290,291,292,293,294,295,296,297,298,299,300,301) have mixed types. Specify dtype option on import or set low_memory=False.\n",
      "  written_data = pd.read_csv(filename)\n"
     ]
    },
    {
     "name": "stdout",
     "output_type": "stream",
     "text": [
      "Index(['id', 'created_on', 'author', 'is_retweet', 'is_reply', 'tweet_body',\n",
      "       'text', 'language', 'likes', 'place', 'retweet_counts', 'source',\n",
      "       'media', 'user_mentions', 'urls', 'hashtags', 'symbols', 'reply_to',\n",
      "       'threads', 'comments', 'tweet_place_geom', 'tweet_place_point',\n",
      "       'tweet_place_coord', 'tweet_place_country', 'tweet_place_name',\n",
      "       'user_home', 'user_home_geography', 'user_home_point',\n",
      "       'user_home_address', 'author_id', 'author_rest_id', 'author_created_at',\n",
      "       'author_default_profile', 'author_default_profile_image',\n",
      "       'author_description', 'author_fast_followers_count',\n",
      "       'author_favourites_count', 'author_followers_count',\n",
      "       'author_friends_count', 'author_has_custom_timelines',\n",
      "       'author_is_translator', 'author_listed_count', 'author_location',\n",
      "       'author_media_count', 'author_name', 'author_normal_followers_count',\n",
      "       'author_profile_banner_url', 'author_profile_image_url_https',\n",
      "       'author_profile_interstitial_type', 'author_protected',\n",
      "       'author_screen_name', 'author_statuses_count', 'author_translator_type',\n",
      "       'author_verified', 'author_profile_url', 'author_entities_description',\n",
      "       'author_entities_url'],\n",
      "      dtype='object')\n",
      "69149\n",
      "SJBlahBlahBlog\n"
     ]
    }
   ],
   "source": [
    "filename = 'twitter_mave_tweet_data_v3'\n",
    "written_data = pd.DataFrame(columns = ['author_screen_name'])\n",
    "if exists(filename):\n",
    "    written_data = pd.read_csv(filename)\n",
    "    records_count = len(written_data)\n",
    "    maven_list_balance = [maven for maven in mavens_list if maven not in list(written_data.author_screen_name)]\n",
    "else:\n",
    "    maven_list_balance = mavens_list\n",
    "    records_count = 0\n",
    "for maven in maven_list_balance:\n",
    "    print(maven)\n",
    "    app = Twitter(maven)\n",
    "    if maven not in list(list(written_data.author_screen_name)):\n",
    "        try:\n",
    "            tweet_search = app.get_tweets(pages = 50)\n",
    "            if len(tweet_search.tweets)!=0:\n",
    "                raw_df = extract_df_from_tweet_search(tweet_search).drop('card',axis = 1).reset_index()\n",
    "                if len(raw_df)>0:\n",
    "                    if exists(filename):\n",
    "                        written_data = pd.read_csv(filename)\n",
    "                        pd.concat([written_data,raw_df]).to_csv(filename)\n",
    "                    else:\n",
    "                        raw_df.to_csv(filename)\n",
    "                    records_count = records_count + len(raw_df)\n",
    "                    print(raw_df.columns)\n",
    "        except: \n",
    "            None\n",
    "        print(records_count)"
   ]
  },
  {
   "cell_type": "markdown",
   "id": "fc2726cd",
   "metadata": {},
   "source": [
    "#### Read Data"
   ]
  },
  {
   "cell_type": "code",
   "execution_count": 185,
   "id": "21af6646",
   "metadata": {},
   "outputs": [],
   "source": [
    "load_data = pd.concat([pd.read_csv('twitter_mave_tweet_data_v3',dtype='string'),pd.read_csv('twitter_trip_data',dtype='string')])"
   ]
  },
  {
   "cell_type": "code",
   "execution_count": 186,
   "id": "e87a23ce",
   "metadata": {},
   "outputs": [],
   "source": [
    "maven_data_load_filter = load_data.loc[:,~load_data.columns.str.contains('Unnamed', case=False)]\n",
    "maven_data_load_antifilter = load_data.loc[:,load_data.columns.str.contains('Unnamed', case=False)]\n",
    "maven_data_load_filter = maven_data_load_filter.drop_duplicates()"
   ]
  },
  {
   "cell_type": "code",
   "execution_count": 187,
   "id": "d703ef1e",
   "metadata": {},
   "outputs": [
    {
     "data": {
      "image/png": "[encoded data removed]",
      "text/plain": [
       "<Figure size 432x288 with 1 Axes>"
      ]
     },
     "metadata": {
      "needs_background": "light"
     },
     "output_type": "display_data"
    }
   ],
   "source": [
    "country_dist_unavailable = maven_data_load_filter.fillna('Unavailable')['place_country'].value_counts()[:20].plot(kind='barh').get_figure()\n",
    "country_dist_unavailable.savefig('country_dist_unavailable')"
   ]
  },
  {
   "cell_type": "code",
   "execution_count": 188,
   "id": "6150ec12",
   "metadata": {},
   "outputs": [
    {
     "data": {
      "image/png": "[encoded data removed]",
      "text/plain": [
       "<Figure size 432x288 with 1 Axes>"
      ]
     },
     "metadata": {
      "needs_background": "light"
     },
     "output_type": "display_data"
    }
   ],
   "source": [
    "country_dist = maven_data_load_filter['place_country'].value_counts()[:20].plot(kind='barh').get_figure()\n",
    "country_dist.savefig('country_dist')"
   ]
  },
  {
   "cell_type": "code",
   "execution_count": 189,
   "id": "a6bba93b",
   "metadata": {},
   "outputs": [
    {
     "name": "stdout",
     "output_type": "stream",
     "text": [
      "['flannelsorflip1', 'LGSomewhereMcK', 'doyoudaretoday', 'DiaryofDi', 'fouraroundworld', 'letsdiscoverON', 'travellingsocio', 'lux_tribe', 'AdvMATravel', 'wanderingnorth', 'holidaytravelz', 'TheBelleVoyage', 'MissLoneStar1', 'kreeeeete', 'NoMasCoach', 'TravelPleaseTB', 'wowplacesde', 'LivingLesh', 'smtownplussize', 'travelblog007', 'katsheets', 'Mycaraibes', 'letsgettripsy', 'AdventuresLikeU', 'travelblogUSA', 'DR_travelblog', 'w2travelblog', 'travelblog_', 'TravelTweaks', 'BrinkoftheWorld', 'meedristravel', 'AatEblog', 'amelochevoyage', 'LTravelblog', 'ExploringFL', 'Travelb26404033', 'travelblog30', 'comusetravels', 'ecoecomikesv', 'RightLostTravel', 'no_mad_land', 'lattesnluggage', 'LiveFunTravel', 'WannaSeeItAll', 'Away4mHome', 'ensquaredaired', 'yTravelBlog', 'TravelBlogTBTW', 'astablog_jsn', 'BuzzTravelBlog', 'TravelMamas', 'otavTravelBlog', 'TravelLoveFash', 'travelnursing', 'FamTravelGuide', 'sheriannekay', 'TravelBoldly', 'TwavelTweeter', 'ibeantravelling', 'crankyflier', 'theplanetd', 'loveandluggag', 'Aitravelsblog', 'tntwanders', 'AisleSeatTravel', 'Y0rkshirePudd', 'escapeatx', 'FamileeTravel', 'divergenttravel', 'gia_venetia', 'GeoBeetles', 'travelingmamas', 'EscapeHouston', 'HiClassMag', '2TravelDads', 'luvofwanderlust', 'travel_blog_com', 'cheapdfw', '2idiotsTravel', 'mpaprojectravel', 'BabytoBoomer', 'hiptraveler', 'BlogBrb', 'milehighmamas', '1000Fights', 'awaygowe', 'frostxsun', 'eatdrinkmore', 'bradajohnson', 'Sunshine_Vine', 'MariaAbroad', 'GUndertones', 'whatmorgandoes', 'LesleyMCarter', 'puravidaeh', 'MyTravelJarBlog', 'hellotravelsite', 'tourscotland', 'TravelAndKids', 'Average_Tourist', 'ItsTheAllSorts', 'TravelingTyanna', 'NewYorkHabitat', 'travelmvmt', 'LivingTheQLife', 'DorsetBlog', 'LiveandLetsFly', 'traveleat_blog', 'stockpilingmoms', 'LinhyBanh', 'TravelLoudBlog', 'GutomHungry', 'ankurkiprerna', 'agaymansdiary', 'adventurespassp', 'gwenkleist', 'TravelGirlBlog', 'CarsTravelFood', 'BonTraveler', 'harborsnhavens', 'sweetcsdesigns', 'DameTraveler', 'TradetheTypical', 'SandraFoyt', 'women_whotravel', 'WWTravelMag', 'allison_wallace', 'escapeFlightDEN', 'RendezvousEnNY', 'LittleDove_blog', 'JenniferLake', 'FormerChefBlog', 'dcborn61', 'BusyInFlorida', 'AshleyMuirBruhn', 'EscapeFlightPHX', 'twirltheglobe', 'TravelsRv', 'ramblingj17', 'Kasiawrites', 'KidTripster', 'byland_and_sea', 'staywithstyleUK', 'EscapeFlightPDX', 'bydestinations', 'Wanderluststory', 'tiffdahle', 'UpYourTravel', 'AnEpicEdu', 'PDXTravelGal', 'TheEarthTravel1', 'DaveTravels1', '6TravelThoughts', 'ItsNotHouItsMe', 'wanderlustylife', 'phoenixfire2912', 'JaneVBlanchard', 'FieldTripswSue', 'wander_filled', 'theanthrotorian', 'gftravelsite', 'boozing_abroad', 'theblaker77', 'TravelingwithMJ', 'LadyhattanBlog', 'radfamilytravel', 'andreazoellner', 'bttpassport', 'alycatphotos', 'BrightNomad', 'WeAre_Adventure', 'fillmypassport6', 'fashionista_mom', '5losttogether', 'SageScottKC', 'aksomitis', 'OutCoastFlorida', 'RoadTripsFeedMe', 'pattidiener', 'maggiegunther', 'strollingon', 'funsunfamblog', 'TrimmTravels', 'OntheWay___', 'VelvetandVino', 'Jaime_Cittadino', 'travelfootsteps', 'SerialJetSetter', 'jagabondtravel', 'TravelGearBlog', 'Tosomeplacenew1', 'theParkWorldcom', 'IAmKathyHaan', 'lindseyaklaus', 'Sleepingthruyet', 'aworldinreach', 'lifewithrache', 'thedivinedish', 'abertrand', 'ohidesignblog', 'adventureweseek', 'JayRockMtl', 'funandtravels', 'PawanKBahuguna', 'blogtripping', <NA>, 'TheVagabondChef', 'Jayin1988', 'wakepraytravel', 'JaMekaRamnath', 'love_tay3', 'travelupa', 'SoCalTravelBlog', 'explorewithcass', 'laura_adney', 'SusanTregoning', 'blogtravel', 'lysmekah', 'JeffBTravels', 'WorldTravelBlog', 'we3travel', 'theworldkeycom', 'ghtravelblog', 'MGPTravelBlog', 'PerfPublicity', 'DadBlogsAbout', 'mariamichelle', 'CelesteO_Hara', 'itsafamilyblog', 'GloballyCouture', 'ontravelmode', 'KarpanParkland', '2HotTravellers', 'shirleywood97', 'Luscious_Lushes', 'TvlBlogProject', 'VeggieNextDoor', 'GringaEspanola', 'ITVSeo', 'GLOBE_WATCHERS', 'TNE_TravelBlog', 'kirant94', 'lemueljopio', 'Poplifer73', 'kojo_sensei', 'ArtsandClouds', 'islandbuzztours', 'author_screen_name', 'shreyplaysYT', 'LakeYourWay', 'RichardBarronII', 'gannotti', 'Bradfordgull', 'NoobzDownTv', 'deluxetoursegy', 'VacayAddict', 'AstraeusHoliday', 'travellerbiswa', 'youknowmetoo_79', 'Heidimjj72', 'Zole32', 'MsTangela', '_aleem', 'TheChoooChooo', 'PhilTravel1', 'Just4BeerLovers', 'HearOurCity', 'HassaanRazaQad2', 'barbaravitali2', 'FloridaCitizen5', 'garagedoorappar', 'SeePlymouth', 'TsarEventsAR', 'DionJackson', 'VillageLadhoo', '1indiangirlheer', 'Toxicalmedusa', 'casamilakazdagi', 'LauniRiccardo', 'GoldenRwanda', 'marsh_bay', 'EstuViaje', 'William67335893', 'drscottrice', 'aldana8', 'Wheres_Mondo', 'Ut_Credamus', 'GhastEald', 'thejohnnyoshow', 'Bradthom1988', 'londonmanblog', 'ElleMeskhi', 'SeductionTravel', 'sabbatravels', 'VectaTravels', 'wanoso_', 'coralinn_mv', 'GradwellLetting', 'VijayEllaurie', 'Chelseacapp', 'rickeverittuk', 'CRoberts_NC', 'InThe506', 'AbenA_314', 'reynaaruizz', 'RosePaintedBlk', 'YourGuidePk', 'B4AOfficial', 'MarinovaMariya', 'StroutsMatt', 'Michaels_Deli', 'trini_surfer', 'JoyunderBoy', 'really_zaisha', 'jasonChampton', 'paper_visions', 'wildfirediva', 'PlatinumDestin', 'LVMiniGranPrix', 'thadbergmeier', 'PaierLuca', 'AfricaVsafaris', 'johnsy_bbq', 'InTheShift', 'FA_Zanzibar', 'Ziggy_Daddy', 'mercurejeddah', 'RockCityHotel', 'CanaryPlaza', 'KobbyKyei_', 'gumushan_ali', 'MountainPeakPr1', 'JPerpetualKid', 'RCWoodson1', 'hussman999', 'TourExotico', 'KCOnTheRadio', 'TheBeachMoms', 'cholubaz', 'AlexandraMatu15', 'RichardofNC', 'ToursDubrovnik', 'zee_baybe', 'AdamAndRayan', 'VitorDio', 'OCTOMEE_MAY', 'makariosafaris', 'Elnita2', 'VillaMicika', 'johndayvii', 'iamblesBerou_b', 'desaidi9', 'Penascodsol2014', 'NatventureEx', 'Ikaika4StateRep', 'AuslanderCondos', 'rawphoto016', 'Christo04673966', 'Laumet', 'rahmanalsaffar', 'RnMemol', 'GraciaSpa', 'MankOong89', 'PaulNDonovan', 'Sahana0207Kumar', 'ab_bandit', 'WalterKozin', 'JaynairS', 'anthonyartist', 'silverbullet_rv', 'cjstreed', 'AnthonyVillaman', 'NoleNurse1217', 'ArirmarLBC', 'StephenEllis_PR', 'haraspaumar', 'ronaldopelizon', 'LongLakeEscape', 'chelyto20', 'MrDrCr', 'Noah_flynn98', 'dimiboy', 'aloof_nerd', 'BBL_Reviewer', 'santhosh_m31', 'Conrad_Pune', 'RokebyM', 'aaryan_holidays', 'RFAVillager', 'KTuqan', 'rj_thatsart', 'EmilySzink', 'iam_dcruz', 'JoelianRj', 'SphynxSto', 'MrsWebsterAHS', 'itsamoopoint318', 'onassiskrown', 'hafelg', 'SoemyCauich', 'TUBAERKOVAN34', 'ofabianosousa', 'outtoseabahamas', 'MrReginaGeorge', 'carlos_nelio', 'goflyadam007', 'STEVHONYT', 'henny_world', 'ben_millerman', 'RejoiningTravel', 'AmmanRoots', 'FinishYplate1st', 'GoldenTulipPHC', 'India2Travel', 'TheRealPasqui', 'JamesMoonLaw', 'Tathra55', 'TimSamsTravelUS', 'KurisutaBlue', 'stilian_gue', 'Club_Frisson', 'thelodgesharda', 'chibi_mag', 'itsblairejohn', 'CuartelCasa', 'usamasub500', 'manisha64323365', 'JeanEmmanuel_HI', 'salinawatts9', 'chencheng0616', 'niroshen_', 'journey_comfort', 'paulandcarole', 'babrek007', 'SeanBlachley', 'RafMaia92', 'Master_Wain', 'CalistaHotel', 'Ravindr83850636', 'christinaaudr11', 'tylertheextra', 'authindia', 'Whipper9205', 'rosangellas440', 'everyshowjoe', 'whitneyalways', 'Punkareli13', 'sushant_travels', 'FhebzyExclusive', 'julieoriginals', 'DejanSagita', 'Lemarisstyles', 'KimmieNaa', 'LegoForages', 'elysiumresort', 'MrDipak45886720', 'AndriiLytvak', 'kerryisrael', 'tvtoni', 'KolpaResort', 'ThatSuperStar', 'geekazine', 'nanita_benitez', 'SSPlayJa', 'LongBayVillas', 'dreamwithadaku', 'trjavid', 'aadel_soumbati', 'alpana_sinhaa', 'hububbstay', 'jeannemarielle', 'JoanatTorres', 'caboyachtlife', 'AfricanPot2020', 'HolidaysRetreat', 'shamaiic', 'IamMiddlechase', 'MYantiara', 'cabancondosmex', 'sauaitolang', 'kiyakiko', 'SafarisHeritage', 'sweet_tci', 'Kamzell8', 'nathy_cont', 'LadyCiers', 'ecolodgemorocco', 'junowbabe', 'iamsubhamsharma', 'Bulldog_Golfer', 'culturenthrills', 'princefortune19', 'PodtasticA', 'BurninBaits', 'AkaOrangejuice', 'gretchen_burgos', 'lamarajyaad', 'lilidelacr2', 'pcfishingtrips', 'FayoumiRana', 'ErnestRThomasJ1', 'rp00732']\n"
     ]
    }
   ],
   "source": [
    "print(list(maven_data_load_filter.author_screen_name.unique()))"
   ]
  },
  {
   "cell_type": "code",
   "execution_count": 190,
   "id": "2fb960c6",
   "metadata": {},
   "outputs": [
    {
     "data": {
      "text/plain": [
       "Index(['id', 'created_on', 'author', 'is_retweet', 'is_reply', 'tweet_body',\n",
       "       'text', 'language', 'likes', 'place', 'retweet_counts', 'source',\n",
       "       'media', 'user_mentions', 'urls', 'hashtags', 'symbols', 'reply_to',\n",
       "       'threads', 'comments', 'tweet_place_geom', 'tweet_place_point',\n",
       "       'tweet_place_coord', 'tweet_place_country', 'tweet_place_name',\n",
       "       'user_home', 'user_home_geography', 'user_home_point',\n",
       "       'user_home_address', 'author_id', 'author_rest_id', 'author_created_at',\n",
       "       'author_default_profile', 'author_default_profile_image',\n",
       "       'author_description', 'author_fast_followers_count',\n",
       "       'author_favourites_count', 'author_followers_count',\n",
       "       'author_friends_count', 'author_has_custom_timelines',\n",
       "       'author_is_translator', 'author_listed_count', 'author_location',\n",
       "       'author_media_count', 'author_name', 'author_normal_followers_count',\n",
       "       'author_profile_banner_url', 'author_profile_image_url_https',\n",
       "       'author_profile_interstitial_type', 'author_protected',\n",
       "       'author_screen_name', 'author_statuses_count', 'author_translator_type',\n",
       "       'author_verified', 'author_profile_url', 'author_entities_description',\n",
       "       'author_entities_url', 'place_id', 'place_country',\n",
       "       'place_country_code', 'place_full_name', 'place_name', 'place_url',\n",
       "       'place_coordinates', 'card', 'user_home_coord', 'tweet_distance'],\n",
       "      dtype='object')"
      ]
     },
     "execution_count": 190,
     "metadata": {},
     "output_type": "execute_result"
    }
   ],
   "source": [
    "maven_data_load_filter.columns"
   ]
  },
  {
   "cell_type": "markdown",
   "id": "c3349019",
   "metadata": {},
   "source": [
    "#### Graph Geo"
   ]
  },
  {
   "cell_type": "code",
   "execution_count": 191,
   "id": "e49b7223",
   "metadata": {},
   "outputs": [],
   "source": [
    "raw_df_loc_data_filter = (maven_data_load_filter['tweet_place_point'].isnull() == False) & (maven_data_load_filter['user_home_point'].isnull() == False)"
   ]
  },
  {
   "cell_type": "code",
   "execution_count": 193,
   "id": "44826085",
   "metadata": {},
   "outputs": [
    {
     "name": "stderr",
     "output_type": "stream",
     "text": [
      "/Users/mustafatelab/opt/anaconda3/lib/python3.8/site-packages/geopandas/array.py:275: ShapelyDeprecationWarning: The array interface is deprecated and will no longer work in Shapely 2.0. Convert the '.coords' to a numpy array instead.\n",
      "  return GeometryArray(vectorized.points_from_xy(x, y, z), crs=crs)\n",
      "<ipython-input-193-ba2f3e0fda59>:2: SettingWithCopyWarning: \n",
      "A value is trying to be set on a copy of a slice from a DataFrame.\n",
      "Try using .loc[row_indexer,col_indexer] = value instead\n",
      "\n",
      "See the caveats in the documentation: https://pandas.pydata.org/pandas-docs/stable/user_guide/indexing.html#returning-a-view-versus-a-copy\n",
      "  trip_data['tweet_place_point'] = gpd.GeoSeries(trip_data['tweet_place_point'].apply(convert_point_string))\n",
      "/Users/mustafatelab/opt/anaconda3/lib/python3.8/site-packages/geopandas/array.py:275: ShapelyDeprecationWarning: The array interface is deprecated and will no longer work in Shapely 2.0. Convert the '.coords' to a numpy array instead.\n",
      "  return GeometryArray(vectorized.points_from_xy(x, y, z), crs=crs)\n",
      "<ipython-input-193-ba2f3e0fda59>:3: SettingWithCopyWarning: \n",
      "A value is trying to be set on a copy of a slice from a DataFrame.\n",
      "Try using .loc[row_indexer,col_indexer] = value instead\n",
      "\n",
      "See the caveats in the documentation: https://pandas.pydata.org/pandas-docs/stable/user_guide/indexing.html#returning-a-view-versus-a-copy\n",
      "  trip_data['user_home_point'] = gpd.GeoSeries(trip_data['user_home_point'].apply(convert_point_string))\n",
      "<ipython-input-193-ba2f3e0fda59>:4: SettingWithCopyWarning: \n",
      "A value is trying to be set on a copy of a slice from a DataFrame.\n",
      "Try using .loc[row_indexer,col_indexer] = value instead\n",
      "\n",
      "See the caveats in the documentation: https://pandas.pydata.org/pandas-docs/stable/user_guide/indexing.html#returning-a-view-versus-a-copy\n",
      "  trip_data['place_country_standardized'] = cc.convert(names = trip_data['place_country'], to ='name')\n",
      "<ipython-input-193-ba2f3e0fda59>:5: SettingWithCopyWarning: \n",
      "A value is trying to be set on a copy of a slice from a DataFrame.\n",
      "Try using .loc[row_indexer,col_indexer] = value instead\n",
      "\n",
      "See the caveats in the documentation: https://pandas.pydata.org/pandas-docs/stable/user_guide/indexing.html#returning-a-view-versus-a-copy\n",
      "  trip_data['place_country_code_iso3'] = cc.convert(names = trip_data['place_country_code'], to ='ISO3')\n"
     ]
    },
    {
     "data": {
      "image/png": "[encoded data removed]",
      "text/plain": [
       "<Figure size 576x288 with 1 Axes>"
      ]
     },
     "metadata": {
      "needs_background": "light"
     },
     "output_type": "display_data"
    }
   ],
   "source": [
    "trip_data = maven_data_load_filter[raw_df_loc_data_filter]\n",
    "trip_data['tweet_place_point'] = gpd.GeoSeries(trip_data['tweet_place_point'].apply(convert_point_string))\n",
    "trip_data['user_home_point'] = gpd.GeoSeries(trip_data['user_home_point'].apply(convert_point_string))\n",
    "trip_data['place_country_standardized'] = cc.convert(names = trip_data['place_country'], to ='name')\n",
    "trip_data['place_country_code_iso3'] = cc.convert(names = trip_data['place_country_code'], to ='ISO3')\n",
    "trip_data_select_columns = ['id', 'author_id','created_on',\n",
    "       'text','user_home','user_home_address','place_full_name','user_home_point', 'tweet_place_point','tweet_place_geom',  'place_country_standardized',\n",
    "       'place_country_code_iso3']\n",
    "trip_data_select = trip_data[trip_data_select_columns]\n",
    "trip_data_select.to_csv('trip_data_select')\n",
    "trip_data_select_usa = trip_data_select[trip_data_select.place_country_standardized == 'United States']\n",
    "trip_data_select_usa_geometry = gpd.GeoDataFrame(trip_data_select_usa.tweet_place_point.rename('geometry'))\n",
    "us_map = gpd.read_file(gplt.datasets.get_path('contiguous_usa'))\n",
    "us_geom = us_map.loc[:, 'geometry']\n",
    "trip_data_select_usa_geometry.crs = us_map.crs\n",
    "ax = gplt.polyplot(us_map, figsize=(8, 4))\n",
    "geo =  trip_data_select_usa_geometry\n",
    "geo = gpd.sjoin(geo,us_map, how=\"inner\")\n",
    "maven_trip_sample = geoplot.pointplot(geo, ax=ax).get_figure()\n",
    "maven_trip_sample.savefig('maven_trip_sample')"
   ]
  },
  {
   "cell_type": "code",
   "execution_count": 198,
   "id": "969da42f",
   "metadata": {},
   "outputs": [],
   "source": [
    "place_groups = pd.read_csv('place_groups')"
   ]
  },
  {
   "cell_type": "code",
   "execution_count": 203,
   "id": "f3588bf0",
   "metadata": {},
   "outputs": [],
   "source": [
    "place_groups = place_groups[['place_full_name','group']]"
   ]
  },
  {
   "cell_type": "code",
   "execution_count": 217,
   "id": "359207ad",
   "metadata": {},
   "outputs": [
    {
     "name": "stderr",
     "output_type": "stream",
     "text": [
      "/Users/mustafatelab/opt/anaconda3/lib/python3.8/site-packages/geopandas/array.py:275: ShapelyDeprecationWarning: The array interface is deprecated and will no longer work in Shapely 2.0. Convert the '.coords' to a numpy array instead.\n",
      "  return GeometryArray(vectorized.points_from_xy(x, y, z), crs=crs)\n",
      "<ipython-input-217-4c8e36e04ab8>:2: SettingWithCopyWarning: \n",
      "A value is trying to be set on a copy of a slice from a DataFrame.\n",
      "Try using .loc[row_indexer,col_indexer] = value instead\n",
      "\n",
      "See the caveats in the documentation: https://pandas.pydata.org/pandas-docs/stable/user_guide/indexing.html#returning-a-view-versus-a-copy\n",
      "  trip_data['tweet_place_point'] = gpd.GeoSeries(trip_data['tweet_place_point'].apply(convert_point_string))\n",
      "/Users/mustafatelab/opt/anaconda3/lib/python3.8/site-packages/geopandas/array.py:275: ShapelyDeprecationWarning: The array interface is deprecated and will no longer work in Shapely 2.0. Convert the '.coords' to a numpy array instead.\n",
      "  return GeometryArray(vectorized.points_from_xy(x, y, z), crs=crs)\n",
      "<ipython-input-217-4c8e36e04ab8>:3: SettingWithCopyWarning: \n",
      "A value is trying to be set on a copy of a slice from a DataFrame.\n",
      "Try using .loc[row_indexer,col_indexer] = value instead\n",
      "\n",
      "See the caveats in the documentation: https://pandas.pydata.org/pandas-docs/stable/user_guide/indexing.html#returning-a-view-versus-a-copy\n",
      "  trip_data['user_home_point'] = gpd.GeoSeries(trip_data['user_home_point'].apply(convert_point_string))\n",
      "<ipython-input-217-4c8e36e04ab8>:4: SettingWithCopyWarning: \n",
      "A value is trying to be set on a copy of a slice from a DataFrame.\n",
      "Try using .loc[row_indexer,col_indexer] = value instead\n",
      "\n",
      "See the caveats in the documentation: https://pandas.pydata.org/pandas-docs/stable/user_guide/indexing.html#returning-a-view-versus-a-copy\n",
      "  trip_data['place_country_standardized'] = cc.convert(names = trip_data['place_country'], to ='name')\n",
      "<ipython-input-217-4c8e36e04ab8>:5: SettingWithCopyWarning: \n",
      "A value is trying to be set on a copy of a slice from a DataFrame.\n",
      "Try using .loc[row_indexer,col_indexer] = value instead\n",
      "\n",
      "See the caveats in the documentation: https://pandas.pydata.org/pandas-docs/stable/user_guide/indexing.html#returning-a-view-versus-a-copy\n",
      "  trip_data['place_country_code_iso3'] = cc.convert(names = trip_data['place_country_code'], to ='ISO3')\n"
     ]
    },
    {
     "data": {
      "image/png": "[encoded data removed]",
      "text/plain": [
       "<Figure size 576x288 with 1 Axes>"
      ]
     },
     "metadata": {
      "needs_background": "light"
     },
     "output_type": "display_data"
    }
   ],
   "source": [
    "trip_data = maven_data_load_filter[raw_df_loc_data_filter]\n",
    "trip_data['tweet_place_point'] = gpd.GeoSeries(trip_data['tweet_place_point'].apply(convert_point_string))\n",
    "trip_data['user_home_point'] = gpd.GeoSeries(trip_data['user_home_point'].apply(convert_point_string))\n",
    "trip_data['place_country_standardized'] = cc.convert(names = trip_data['place_country'], to ='name')\n",
    "trip_data['place_country_code_iso3'] = cc.convert(names = trip_data['place_country_code'], to ='ISO3')\n",
    "trip_data_select_columns = ['id', 'author_id','created_on',\n",
    "       'text','user_home','user_home_address','place_full_name','user_home_point', 'tweet_place_point','tweet_place_geom',  'place_country_standardized',\n",
    "       'place_country_code_iso3']\n",
    "trip_data_select = trip_data[trip_data_select_columns]\n",
    "trip_data_select.to_csv('trip_data_select')\n",
    "trip_data_select_usa = trip_data_select[trip_data_select.place_country_standardized == 'United States']\n",
    "trip_data_select_usa = trip_data_select_usa.merge(place_groups, on = 'place_full_name', how = 'left')\n",
    "trip_data_select_usa_geometry = gpd.GeoDataFrame(trip_data_select_usa[['tweet_place_point','place_full_name','group']])\n",
    "trip_data_select_usa_geometry.columns = ['geometry','place_full_name','group']\n",
    "us_map = gpd.read_file(gplt.datasets.get_path('contiguous_usa'))\n",
    "us_geom = us_map.loc[:, 'geometry']\n",
    "trip_data_select_usa_geometry.crs = us_map.crs\n",
    "ax = gplt.polyplot(us_map, figsize=(8, 4))\n",
    "geo =  trip_data_select_usa_geometry\n",
    "geo = gpd.sjoin(geo,us_map, how=\"inner\")\n",
    "maven_trip_sample = geoplot.pointplot(geo, ax=ax,hue='group',legend=True).get_figure()\n",
    "maven_trip_sample.savefig('maven_trip_sample_grouped')"
   ]
  },
  {
   "cell_type": "code",
   "execution_count": null,
   "id": "67e595e1",
   "metadata": {},
   "outputs": [],
   "source": []
  }
 ],
 "metadata": {
  "kernelspec": {
   "display_name": "Python 3",
   "language": "python",
   "name": "python3"
  },
  "language_info": {
   "codemirror_mode": {
    "name": "ipython",
    "version": 3
   },
   "file_extension": ".py",
   "mimetype": "text/x-python",
   "name": "python",
   "nbconvert_exporter": "python",
   "pygments_lexer": "ipython3",
   "version": "3.8.12"
  }
 },
 "nbformat": 4,
 "nbformat_minor": 5
}
