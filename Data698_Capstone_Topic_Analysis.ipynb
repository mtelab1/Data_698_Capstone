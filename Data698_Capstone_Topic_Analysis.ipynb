{
 "cells": [
  {
   "cell_type": "code",
   "execution_count": 1,
   "id": "f1d2f59f",
   "metadata": {},
   "outputs": [
    {
     "name": "stderr",
     "output_type": "stream",
     "text": [
      "[nltk_data] Downloading package stopwords to\n",
      "[nltk_data]     /Users/mustafatelab/nltk_data...\n",
      "[nltk_data]   Package stopwords is already up-to-date!\n"
     ]
    },
    {
     "data": {
      "text/plain": [
       "True"
      ]
     },
     "execution_count": 1,
     "metadata": {},
     "output_type": "execute_result"
    }
   ],
   "source": [
    "import nltk; nltk.download('stopwords')"
   ]
  },
  {
   "cell_type": "code",
   "execution_count": 2,
   "id": "cbb7cd01",
   "metadata": {},
   "outputs": [],
   "source": [
    "#https://www.machinelearningplus.com/nlp/topic-modeling-gensim-python/#1introduction"
   ]
  },
  {
   "cell_type": "code",
   "execution_count": 3,
   "id": "108cc3dc",
   "metadata": {},
   "outputs": [],
   "source": [
    "import re\n",
    "import numpy as np\n",
    "import pandas as pd\n",
    "from pprint import pprint\n",
    "\n",
    "# Gensim\n",
    "import gensim\n",
    "import gensim.corpora as corpora\n",
    "from gensim.utils import simple_preprocess\n",
    "from gensim.models import CoherenceModel\n",
    "\n",
    "# spacy for lemmatization\n",
    "import spacy\n",
    "\n",
    "# Plotting tools\n",
    "import pyLDAvis\n",
    "import pyLDAvis.gensim_models  # don't skip this\n",
    "import matplotlib.pyplot as plt\n",
    "%matplotlib inline\n",
    "\n",
    "# Enable logging for gensim - optional\n",
    "import logging\n",
    "logging.basicConfig(format='%(asctime)s : %(levelname)s : %(message)s', level=logging.ERROR)\n",
    "\n",
    "import warnings\n",
    "warnings.filterwarnings(\"ignore\",category=DeprecationWarning)"
   ]
  },
  {
   "cell_type": "code",
   "execution_count": 4,
   "id": "13fbea55",
   "metadata": {},
   "outputs": [],
   "source": [
    "# NLTK Stop words\n",
    "stop_word_supplement = ['vacation','co','https','thank','head','travel','needed_wash','destination','visit','stay','from', 'subject', 're', 'edu', 'use']\n",
    "from nltk.corpus import stopwords\n",
    "stop_words = stopwords.words('english')\n",
    "stop_words.extend(stop_word_supplement)"
   ]
  },
  {
   "cell_type": "code",
   "execution_count": 5,
   "id": "2828b0d4",
   "metadata": {},
   "outputs": [],
   "source": [
    "df = pd.read_csv('trip_data_select')\n",
    "data = df.text.values.tolist()"
   ]
  },
  {
   "cell_type": "code",
   "execution_count": 46,
   "id": "0c2b50b3",
   "metadata": {},
   "outputs": [],
   "source": [
    "def create_corpus(data):\n",
    "    # Remove Emails\n",
    "    data = [re.sub('\\S*@\\S*\\s?', '', sent) for sent in data]\n",
    "\n",
    "    # Remove new line characters\n",
    "    data = [re.sub('\\s+', ' ', sent) for sent in data]\n",
    "\n",
    "    # Remove distracting single quotes\n",
    "    data = [re.sub(\"\\'\", \"\", sent) for sent in data]\n",
    "    \n",
    "    data_words = list(sent_to_words(data))\n",
    "    \n",
    "    # Build the bigram and trigram models\n",
    "    bigram = gensim.models.Phrases(data_words, min_count=5, threshold=25) # higher threshold fewer phrases.\n",
    "    trigram = gensim.models.Phrases(bigram[data_words], threshold=25)  \n",
    "\n",
    "    # Faster way to get a sentence clubbed as a trigram/bigram\n",
    "    bigram_mod = gensim.models.phrases.Phraser(bigram)\n",
    "    trigram_mod = gensim.models.phrases.Phraser(trigram)\n",
    "    # Remove Stop Words\n",
    "    data_words_nostops = remove_stopwords(data_words)\n",
    "\n",
    "    # Form Bigrams\n",
    "    data_words_bigrams = make_bigrams(data_words_nostops)\n",
    "\n",
    "    # Initialize spacy 'en' model, keeping only tagger component (for efficiency)\n",
    "    # python3 -m spacy download en\n",
    "    nlp = spacy.load('en_core_web_sm', disable=['parser', 'ner'])\n",
    "\n",
    "    # Do lemmatization keeping only noun, adj, vb, adv\n",
    "    data_lemmatized = lemmatization(data_words_bigrams, allowed_postags=['NOUN', 'ADJ', 'VERB', 'ADV'])\n",
    "    # Create Dictionary\n",
    "    id2word = corpora.Dictionary(data_lemmatized)\n",
    "\n",
    "    # Create Corpus\n",
    "    texts = data_lemmatized\n",
    "\n",
    "    # Term Document Frequency\n",
    "    corpus = [id2word.doc2bow(text) for text in texts]\n",
    "    return corpus"
   ]
  },
  {
   "cell_type": "code",
   "execution_count": 6,
   "id": "dec61978",
   "metadata": {},
   "outputs": [
    {
     "name": "stdout",
     "output_type": "stream",
     "text": [
      "['The Most Romantic Destinations for Couples https://t.co/BxQbZn74NY']\n"
     ]
    }
   ],
   "source": [
    "# Convert to list\n",
    "\n",
    "\n",
    "# Remove Emails\n",
    "data = [re.sub('\\S*@\\S*\\s?', '', sent) for sent in data]\n",
    "\n",
    "# Remove new line characters\n",
    "data = [re.sub('\\s+', ' ', sent) for sent in data]\n",
    "\n",
    "# Remove distracting single quotes\n",
    "data = [re.sub(\"\\'\", \"\", sent) for sent in data]\n",
    "\n",
    "pprint(data[:1])"
   ]
  },
  {
   "cell_type": "code",
   "execution_count": 7,
   "id": "f1061650",
   "metadata": {},
   "outputs": [
    {
     "name": "stdout",
     "output_type": "stream",
     "text": [
      "[['the', 'most', 'romantic', 'destinations', 'for', 'couples', 'https', 'co', 'bxqbzn', 'ny']]\n"
     ]
    }
   ],
   "source": [
    "def sent_to_words(sentences):\n",
    "    for sentence in sentences:\n",
    "        yield(gensim.utils.simple_preprocess(str(sentence), deacc=True))  # deacc=True removes punctuations\n",
    "\n",
    "data_words = list(sent_to_words(data))\n",
    "print(data_words[:1])"
   ]
  },
  {
   "cell_type": "code",
   "execution_count": 8,
   "id": "b05ba1b5",
   "metadata": {},
   "outputs": [
    {
     "name": "stdout",
     "output_type": "stream",
     "text": [
      "['the', 'most', 'romantic', 'destinations', 'for', 'couples', 'https', 'co', 'bxqbzn', 'ny']\n"
     ]
    }
   ],
   "source": [
    "# Build the bigram and trigram models\n",
    "bigram = gensim.models.Phrases(data_words, min_count=5, threshold=25) # higher threshold fewer phrases.\n",
    "trigram = gensim.models.Phrases(bigram[data_words], threshold=25)  \n",
    "\n",
    "# Faster way to get a sentence clubbed as a trigram/bigram\n",
    "bigram_mod = gensim.models.phrases.Phraser(bigram)\n",
    "trigram_mod = gensim.models.phrases.Phraser(trigram)\n",
    "\n",
    "# See trigram example\n",
    "print(trigram_mod[bigram_mod[data_words[0]]])"
   ]
  },
  {
   "cell_type": "code",
   "execution_count": 9,
   "id": "8232a670",
   "metadata": {},
   "outputs": [],
   "source": [
    "# Define functions for stopwords, bigrams, trigrams and lemmatization\n",
    "def remove_stopwords(texts):\n",
    "    return [[word for word in simple_preprocess(str(doc)) if word not in stop_words] for doc in texts]\n",
    "\n",
    "def make_bigrams(texts):\n",
    "    return [bigram_mod[doc] for doc in texts]\n",
    "\n",
    "def make_trigrams(texts):\n",
    "    return [trigram_mod[bigram_mod[doc]] for doc in texts]\n",
    "\n",
    "def lemmatization(texts, allowed_postags=['NOUN', 'ADJ', 'VERB', 'ADV']):\n",
    "    \"\"\"https://spacy.io/api/annotation\"\"\"\n",
    "    texts_out = []\n",
    "    for sent in texts:\n",
    "        doc = nlp(\" \".join(sent)) \n",
    "        texts_out.append([token.lemma_ for token in doc if token.pos_ in allowed_postags])\n",
    "    return texts_out"
   ]
  },
  {
   "cell_type": "code",
   "execution_count": 10,
   "id": "1bdd34ea",
   "metadata": {},
   "outputs": [
    {
     "name": "stdout",
     "output_type": "stream",
     "text": [
      "[['romantic', 'destination', 'couple', 'bxqbzn', 'ny']]\n"
     ]
    }
   ],
   "source": [
    "# Remove Stop Words\n",
    "data_words_nostops = remove_stopwords(data_words)\n",
    "\n",
    "# Form Bigrams\n",
    "data_words_bigrams = make_bigrams(data_words_nostops)\n",
    "\n",
    "# Initialize spacy 'en' model, keeping only tagger component (for efficiency)\n",
    "# python3 -m spacy download en\n",
    "nlp = spacy.load('en_core_web_sm', disable=['parser', 'ner'])\n",
    "\n",
    "# Do lemmatization keeping only noun, adj, vb, adv\n",
    "data_lemmatized = lemmatization(data_words_bigrams, allowed_postags=['NOUN', 'ADJ', 'VERB', 'ADV'])\n",
    "\n",
    "print(data_lemmatized[:1])"
   ]
  },
  {
   "cell_type": "code",
   "execution_count": 11,
   "id": "c13e6eac",
   "metadata": {},
   "outputs": [
    {
     "name": "stdout",
     "output_type": "stream",
     "text": [
      "[[(0, 1), (1, 1), (2, 1), (3, 1), (4, 1)]]\n"
     ]
    }
   ],
   "source": [
    "# Create Dictionary\n",
    "id2word = corpora.Dictionary(data_lemmatized)\n",
    "\n",
    "# Create Corpus\n",
    "texts = data_lemmatized\n",
    "\n",
    "# Term Document Frequency\n",
    "corpus = [id2word.doc2bow(text) for text in texts]\n",
    "\n",
    "# View\n",
    "print(corpus[:1])"
   ]
  },
  {
   "cell_type": "code",
   "execution_count": 12,
   "id": "5f2f5e2c",
   "metadata": {},
   "outputs": [
    {
     "data": {
      "text/plain": [
       "[[('bxqbzn', 1),\n",
       "  ('couple', 1),\n",
       "  ('destination', 1),\n",
       "  ('ny', 1),\n",
       "  ('romantic', 1)]]"
      ]
     },
     "execution_count": 12,
     "metadata": {},
     "output_type": "execute_result"
    }
   ],
   "source": [
    "[[(id2word[id], freq) for id, freq in cp] for cp in corpus[:1]]"
   ]
  },
  {
   "cell_type": "code",
   "execution_count": 13,
   "id": "e14b5d3d",
   "metadata": {},
   "outputs": [],
   "source": [
    "# Build LDA model\n",
    "lda_model = gensim.models.ldamodel.LdaModel(corpus=corpus,\n",
    "                                           id2word=id2word,\n",
    "                                           num_topics=5, \n",
    "                                           random_state=100,\n",
    "                                           update_every=1,\n",
    "                                           chunksize=100,\n",
    "                                           passes=10,\n",
    "                                           alpha='auto',\n",
    "                                           per_word_topics=True)"
   ]
  },
  {
   "cell_type": "code",
   "execution_count": 14,
   "id": "9816a5ae",
   "metadata": {},
   "outputs": [
    {
     "name": "stdout",
     "output_type": "stream",
     "text": [
      "[(0,\n",
      "  '0.036*\"tourism\" + 0.034*\"holidays_resort\" + 0.034*\"nft_nft\" + 0.029*\"beach\" '\n",
      "  '+ 0.025*\"sea_airport\" + 0.012*\"flight\" + 0.012*\"take\" + '\n",
      "  '0.011*\"wingo_cruise\" + 0.011*\"enjoy\" + 0.010*\"greece_holiday\"'),\n",
      " (1,\n",
      "  '0.024*\"experience\" + 0.017*\"caribbean\" + 0.010*\"craftbeer\" + 0.009*\"happy\" '\n",
      "  '+ 0.008*\"airline_flight\" + 0.008*\"time\" + 0.007*\"get\" + 0.007*\"drink\" + '\n",
      "  '0.007*\"visit\" + 0.007*\"join\"'),\n",
      " (2,\n",
      "  '0.036*\"day\" + 0.024*\"family\" + 0.016*\"time\" + 0.016*\"good\" + 0.013*\"go\" + '\n",
      "  '0.013*\"work\" + 0.009*\"hotel\" + 0.008*\"want\" + 0.008*\"jazz\" + 0.008*\"get\"'),\n",
      " (3,\n",
      "  '0.023*\"photography\" + 0.015*\"adventure\" + 0.013*\"island\" + 0.012*\"tt_ttot\" '\n",
      "  '+ 0.010*\"explore_travele\" + 0.009*\"today\" + 0.009*\"sunset\" + 0.009*\"resort\" '\n",
      "  '+ 0.008*\"life\" + 0.008*\"info\"'),\n",
      " (4,\n",
      "  '0.067*\"holiday\" + 0.023*\"trip\" + 0.020*\"day\" + 0.012*\"view\" + '\n",
      "  '0.012*\"beautiful\" + 0.012*\"photo\" + 0.010*\"book\" + 0.009*\"nature\" + '\n",
      "  '0.008*\"private\" + 0.008*\"relax\"')]\n"
     ]
    }
   ],
   "source": [
    "# Print the Keyword in the 10 topics\n",
    "pprint(lda_model.print_topics())\n",
    "doc_lda = lda_model[corpus]"
   ]
  },
  {
   "cell_type": "code",
   "execution_count": 22,
   "id": "aeb7c16c",
   "metadata": {},
   "outputs": [],
   "source": [
    "lda_model.save('lda_model')"
   ]
  },
  {
   "cell_type": "code",
   "execution_count": 15,
   "id": "e6a3e0f5",
   "metadata": {},
   "outputs": [
    {
     "name": "stdout",
     "output_type": "stream",
     "text": [
      "\n",
      "Perplexity:  -8.52042986169511\n"
     ]
    }
   ],
   "source": [
    "# Compute Perplexity\n",
    "print('\\nPerplexity: ', lda_model.log_perplexity(corpus))  # a measure of how good the model is. lower the better.\n",
    "\n",
    "# Compute Coherence Score\n",
    "#coherence_model_lda = CoherenceModel(model=lda_model, texts=data_lemmatized, dictionary=id2word, coherence='c_v')\n",
    "#coherence_lda = coherence_model_lda.get_coherence()\n",
    "#print('\\nCoherence Score: ', coherence_lda)"
   ]
  },
  {
   "cell_type": "code",
   "execution_count": 16,
   "id": "2512f83d",
   "metadata": {},
   "outputs": [
    {
     "name": "stderr",
     "output_type": "stream",
     "text": [
      "/Users/mustafatelab/opt/anaconda3/lib/python3.8/site-packages/pyLDAvis/_prepare.py:246: FutureWarning: In a future version of pandas all arguments of DataFrame.drop except for the argument 'labels' will be keyword-only.\n",
      "  default_term_info = default_term_info.sort_values(\n"
     ]
    },
    {
     "data": {
      "text/html": [
       "\n",
       "<link rel=\"stylesheet\" type=\"text/css\" href=\"https://cdn.jsdelivr.net/gh/bmabey/pyLDAvis@3.3.1/pyLDAvis/js/ldavis.v1.0.0.css\">\n",
       "\n",
       "\n",
       "<div id=\"ldavis_el449881402193967067043539915332\"></div>\n",
       "<script type=\"text/javascript\">\n",
       "\n",
       "var ldavis_el449881402193967067043539915332_data = {\"mdsDat\": {\"x\": [-0.11377454361139677, -0.09058710531498546, -0.00597092207272068, 0.33940086568882827, -0.12906829468972525], \"y\": [-0.11415622713560233, -0.21656736289632153, 0.0406430128280776, 0.010836569321610163, 0.27924400788223597], \"topics\": [1, 2, 3, 4, 5], \"cluster\": [1, 1, 1, 1, 1], \"Freq\": [22.894690401623873, 22.367776690260065, 19.726971326007092, 18.581704592800726, 16.42885698930824]}, \"tinfo\": {\"Term\": [\"holiday\", \"holidays_resort\", \"nft_nft\", \"day\", \"tourism\", \"beach\", \"family\", \"sea_airport\", \"trip\", \"experience\", \"photography\", \"good\", \"caribbean\", \"go\", \"work\", \"view\", \"adventure\", \"photo\", \"flight\", \"island\", \"take\", \"wingo_cruise\", \"tt_ttot\", \"time\", \"beautiful\", \"craftbeer\", \"enjoy\", \"hotel\", \"greece_holiday\", \"explore_travele\", \"family\", \"good\", \"go\", \"work\", \"hotel\", \"want\", \"jazz\", \"know\", \"need\", \"bali\", \"price\", \"almost_week\", \"choose_bali\", \"disney_bali\", \"disney_world\", \"either_spend\", \"five_day\", \"greed\", \"first\", \"do\", \"forward\", \"art_artist\", \"awrdj\", \"bamboo\", \"done_fre\", \"hornaday\", \"txwxqlbqyw\", \"winter\", \"pass\", \"long\", \"day\", \"time\", \"help\", \"get\", \"nature\", \"see\", \"holiday\", \"trip\", \"view\", \"photo\", \"private\", \"relax\", \"trattorialeo_yesilyurtkoyu\", \"night\", \"head\", \"amazing\", \"last\", \"vacation\", \"start\", \"maldive\", \"osei_amp\", \"memorable\", \"awesome\", \"shower\", \"hour_journey\", \"relaxing_lunch\", \"cyclades_bluestarferrie\", \"ogetetyczj\", \"piraeus\", \"africa_animal\", \"jqo_jfxx\", \"kenya\", \"hwelzsefl\", \"building\", \"advertising_license\", \"cityscape\", \"beautiful\", \"book\", \"day\", \"nature\", \"love\", \"take\", \"bless\", \"see\", \"make\", \"time\", \"experience\", \"craftbeer\", \"happy\", \"airline_flight\", \"visit\", \"drink\", \"join\", \"cruise\", \"booked_week\", \"favourite_spot\", \"theverandah\", \"pakistan_familytime\", \"ever\", \"dollywood\", \"dollywood_family\", \"destination\", \"iq_jdsukwy\", \"islandlife_surfe\", \"maldives_drone\", \"panoramic_view\", \"thulusdhoo_aerial\", \"good_morne\", \"morning\", \"city\", \"ale\", \"amp_wheat\", \"beer_taste\", \"berry_wheat\", \"label_art\", \"abv_brodersbrewe\", \"caribbean\", \"get\", \"today\", \"time\", \"bad\", \"holidays_resort\", \"nft_nft\", \"beach\", \"sea_airport\", \"flight\", \"wingo_cruise\", \"greece_holiday\", \"panama_airline\", \"cruise_cruise\", \"cyclade\", \"kalimera_cyclade\", \"mountain\", \"subscribe\", \"help_support\", \"dbum_kfkkn\", \"bitcoin\", \"wingo_route\", \"routes_operate\", \"dbum_kwvcl\", \"san_jose\", \"reason\", \"break\", \"great_smoky\", \"iox\", \"ue_owx\", \"kalimera\", \"tinos_tino\", \"diving\", \"biov\", \"gran_trueno\", \"breakfast\", \"tourism\", \"enjoy\", \"take\", \"amp\", \"barbado\", \"month\", \"photography\", \"island\", \"tt_ttot\", \"explore_travele\", \"sunset\", \"resort\", \"info\", \"future_book\", \"picoftheday\", \"hike\", \"life\", \"instagram_landscape\", \"traveler_travelle\", \"feel\", \"instagood_wanderlust\", \"instatravel_adventure\", \"airports_liker\", \"aviation\", \"views_road\", \"hanakapiai_fall\", \"belgium_business\", \"london_uktourism\", \"tripadvisor_staycation\", \"sea\", \"popular\", \"getaway\", \"first_time\", \"fun_unexpecte\", \"historical_trinangle\", \"virgina_history\", \"adventure\", \"today\", \"beautiful\"], \"Freq\": [461.0, 193.0, 193.0, 384.0, 230.0, 164.0, 169.0, 145.0, 156.0, 142.0, 114.0, 110.0, 122.0, 95.0, 92.0, 84.0, 102.0, 81.0, 71.0, 66.0, 122.0, 65.0, 59.0, 194.0, 109.0, 63.0, 78.0, 65.0, 56.0, 52.0, 169.12260358664278, 110.25358359351034, 94.43296870608636, 91.90662664474122, 64.78258338142697, 58.44478978451815, 54.24657004435573, 48.611318657513635, 45.06987597530247, 43.91899311911061, 43.55862801231896, 43.38773187456119, 43.38773187456119, 43.38773187456119, 43.38773187456119, 43.38773187456119, 43.38773187456119, 43.38773187456119, 41.46126780404278, 40.47775241072883, 40.739226567075285, 40.302580771337524, 40.302580771337524, 40.302580771337524, 40.302580771337524, 40.302580771337524, 40.302580771337524, 40.25923872960628, 39.53309157611963, 39.383553379016334, 249.7369618605204, 113.63675444522796, 48.45352949234562, 53.76942928005688, 50.1588089161901, 43.86515962905359, 460.2983553356389, 155.58074398043664, 84.20631840560134, 80.67505786530973, 55.44544232809726, 52.30935606465375, 41.76940203158702, 40.704107104342704, 40.37373685901043, 40.344143474639566, 40.227181421789645, 36.431504884279136, 37.22088802072034, 34.748088018194636, 34.6406941106145, 33.654818293924464, 41.71360218872667, 32.192370462388645, 32.09140311125511, 32.09140311125511, 30.986911606218978, 30.986911606218978, 30.986911606218978, 29.614633109060364, 29.614633109060364, 29.614633109060364, 29.345288067308537, 28.966009720114428, 28.67229665471183, 28.67229665471183, 81.25481163720396, 67.91433189859491, 134.65690851766476, 63.901414175342126, 34.17636345911421, 51.7748845040729, 31.883280817208508, 34.215461264843626, 32.2413677777262, 32.62303577159108, 141.91863037614317, 63.04524800281416, 52.60079920035115, 49.57026141818712, 44.35809971276277, 44.87607985971081, 44.15267853108427, 40.21723154253001, 33.58824170545296, 33.58824170545296, 33.58824170545296, 33.37348843419737, 34.18051888595064, 32.950461806942066, 32.950461806942066, 31.324781454353523, 31.282979537897983, 31.282979537897983, 31.282979537897983, 31.282979537897983, 31.282979537897983, 31.269699364654578, 33.20149248754432, 31.186604146080583, 30.394607322522866, 30.394607322522866, 30.394607322522866, 30.394607322522866, 30.394607322522866, 29.685812498449692, 101.93745208649909, 44.97282055464324, 39.851352372585566, 47.6867866573203, 30.56790712029418, 192.83228176201953, 192.83228176201953, 163.84625938533824, 144.47014670175625, 70.91839602017185, 64.61670151338075, 56.1493093762074, 48.4941775923264, 48.488836177306084, 43.235308344471626, 35.728976525009365, 35.26605212532509, 32.523952818375065, 32.51752088651215, 32.37336355933109, 32.37336355933109, 32.373355618674466, 31.602609018196095, 31.602603724425016, 26.023898062308746, 25.251166297675155, 23.628149022077345, 21.00486311326006, 21.00486311326006, 21.00486311326006, 20.552489199339398, 20.552489199339398, 20.416371786986982, 20.25137552994718, 19.750141432395452, 20.59655190292868, 204.44778956671084, 63.195509260230395, 70.4487273561309, 53.11155295440647, 32.18536586694613, 26.85362256639596, 114.07383337505, 65.68938007930136, 58.90316842153113, 51.60804752278767, 44.227073259252464, 43.25351772616037, 40.34700946676823, 39.590088235011045, 37.59174738066089, 37.5268624002265, 42.52399580735585, 35.366154640173455, 35.366154640173455, 35.15221159352727, 33.31600128251171, 33.31600128251171, 32.604293129525075, 32.604293129525075, 32.604293129525075, 28.73056431655595, 26.988316237720333, 26.988316237720333, 26.988316237720333, 27.127119453457354, 26.24152348447862, 25.20143311481687, 24.59615355377265, 23.801842603613952, 23.801842603613952, 23.801842603613952, 72.94638813120955, 45.22007135230449, 27.470516531074082], \"Total\": [461.0, 193.0, 193.0, 384.0, 230.0, 164.0, 169.0, 145.0, 156.0, 142.0, 114.0, 110.0, 122.0, 95.0, 92.0, 84.0, 102.0, 81.0, 71.0, 66.0, 122.0, 65.0, 59.0, 194.0, 109.0, 63.0, 78.0, 65.0, 56.0, 52.0, 169.8269964064917, 110.97276239372893, 95.13456657466693, 92.60558778314338, 65.5113586512005, 59.15600644350996, 54.94867603983361, 49.31265133820655, 45.77523036414052, 44.617935159905066, 44.25772677460219, 44.086629123343016, 44.086629123343016, 44.086629123343016, 44.086629123343016, 44.086629123343016, 44.086629123343016, 44.086629123343016, 42.161283473260056, 41.17668079511935, 41.443488991086966, 41.00147828594867, 41.00147828594867, 41.00147828594867, 41.00147828594867, 41.00147828594867, 41.00147828594867, 40.96312699480979, 40.232027119539225, 40.08334782038584, 384.89695048486476, 194.2370200128555, 65.1492662794234, 99.23359041901507, 136.27018050298392, 78.5754056129085, 461.0786809926782, 156.35224801171844, 84.99257207091642, 81.43525176559636, 56.225811298213834, 53.07260151391132, 42.528545295464845, 41.46347110188962, 41.13636157598021, 41.10750485434683, 40.988357769135085, 37.19225069445099, 38.00514585956367, 35.50723086658635, 35.39984181485246, 34.42357173866185, 42.670411120876466, 32.95157671335117, 32.850547049967865, 32.850547049967865, 31.74605513026214, 31.74605513026214, 31.74605513026214, 30.37377641355586, 30.37377641355586, 30.37377641355586, 30.10443618942843, 29.725273091072037, 29.431439636929, 29.431439636929, 109.33747158834039, 93.86442722730916, 384.89695048486476, 136.27018050298392, 41.9493768070953, 122.85558505390888, 46.872170389980525, 78.5754056129085, 53.147180579806005, 194.2370200128555, 142.70003519473642, 63.80045173309338, 53.360216649435934, 50.334061798391886, 45.116040393577144, 45.643375239957024, 44.927141598199775, 40.97723710893688, 34.34470969207573, 34.34470969207573, 34.34470969207573, 34.130905222431835, 34.958072975884, 33.70566827835717, 33.70566827835717, 32.080045978189915, 32.03818255968476, 32.03818255968476, 32.03818255968476, 32.03818255968476, 32.03818255968476, 32.02611015810595, 34.00680884138187, 31.947137949120524, 31.149809915042155, 31.149809915042155, 31.149809915042155, 31.149809915042155, 31.149809915042155, 30.441017305773297, 122.3545041866211, 99.23359041901507, 85.67801825475112, 194.2370200128555, 41.09929594904202, 193.6682664514397, 193.6682664514397, 164.69358369439107, 145.30630350662952, 71.74965951892554, 65.45363995171061, 56.98035014242092, 49.325215622208006, 49.32510257455045, 44.0671114213236, 36.560018598110574, 36.100795784577286, 33.358552134038476, 33.35212180058571, 33.20440191666087, 33.20440196703156, 33.204394125943544, 32.44275275765175, 32.44274763577328, 26.856877168924438, 26.08222896073625, 24.459470860311587, 21.83590258715684, 21.83590258715684, 21.83590258715684, 21.38352886943456, 21.38352886943456, 21.251272032559193, 21.082418952199877, 20.58118511986594, 21.465517549879753, 230.71258219887721, 78.36619042284325, 122.85558505390888, 82.36354680245766, 44.89970456867587, 42.87837901805775, 114.89623526922482, 66.51722549079659, 59.716433130617695, 52.42172858900271, 45.04386182240073, 44.07093346904573, 41.161870770760366, 40.40414723497263, 38.410969431743396, 38.348295319019286, 43.47901269657008, 36.17944429952905, 36.17944429952905, 35.98742672631656, 34.129287141941234, 34.129287141941234, 33.4183625487494, 33.4183625487494, 33.4183625487494, 29.543829198121504, 27.801581202195067, 27.801581202195067, 27.801581202195067, 27.954113237639437, 27.091896308203985, 26.029073806548357, 25.411644079557746, 24.615109374529688, 24.615109374529688, 24.615109374529688, 102.31219354414617, 85.67801825475112, 109.33747158834039], \"Category\": [\"Default\", \"Default\", \"Default\", \"Default\", \"Default\", \"Default\", \"Default\", \"Default\", \"Default\", \"Default\", \"Default\", \"Default\", \"Default\", \"Default\", \"Default\", \"Default\", \"Default\", \"Default\", \"Default\", \"Default\", \"Default\", \"Default\", \"Default\", \"Default\", \"Default\", \"Default\", \"Default\", \"Default\", \"Default\", \"Default\", \"Topic1\", \"Topic1\", \"Topic1\", \"Topic1\", \"Topic1\", \"Topic1\", \"Topic1\", \"Topic1\", \"Topic1\", \"Topic1\", \"Topic1\", \"Topic1\", \"Topic1\", \"Topic1\", \"Topic1\", \"Topic1\", \"Topic1\", \"Topic1\", \"Topic1\", \"Topic1\", \"Topic1\", \"Topic1\", \"Topic1\", \"Topic1\", \"Topic1\", \"Topic1\", \"Topic1\", \"Topic1\", \"Topic1\", \"Topic1\", \"Topic1\", \"Topic1\", \"Topic1\", \"Topic1\", \"Topic1\", \"Topic1\", \"Topic2\", \"Topic2\", \"Topic2\", \"Topic2\", \"Topic2\", \"Topic2\", \"Topic2\", \"Topic2\", \"Topic2\", \"Topic2\", \"Topic2\", \"Topic2\", \"Topic2\", \"Topic2\", \"Topic2\", \"Topic2\", \"Topic2\", \"Topic2\", \"Topic2\", \"Topic2\", \"Topic2\", \"Topic2\", \"Topic2\", \"Topic2\", \"Topic2\", \"Topic2\", \"Topic2\", \"Topic2\", \"Topic2\", \"Topic2\", \"Topic2\", \"Topic2\", \"Topic2\", \"Topic2\", \"Topic2\", \"Topic2\", \"Topic2\", \"Topic2\", \"Topic2\", \"Topic2\", \"Topic3\", \"Topic3\", \"Topic3\", \"Topic3\", \"Topic3\", \"Topic3\", \"Topic3\", \"Topic3\", \"Topic3\", \"Topic3\", \"Topic3\", \"Topic3\", \"Topic3\", \"Topic3\", \"Topic3\", \"Topic3\", \"Topic3\", \"Topic3\", \"Topic3\", \"Topic3\", \"Topic3\", \"Topic3\", \"Topic3\", \"Topic3\", \"Topic3\", \"Topic3\", \"Topic3\", \"Topic3\", \"Topic3\", \"Topic3\", \"Topic3\", \"Topic3\", \"Topic3\", \"Topic3\", \"Topic3\", \"Topic4\", \"Topic4\", \"Topic4\", \"Topic4\", \"Topic4\", \"Topic4\", \"Topic4\", \"Topic4\", \"Topic4\", \"Topic4\", \"Topic4\", \"Topic4\", \"Topic4\", \"Topic4\", \"Topic4\", \"Topic4\", \"Topic4\", \"Topic4\", \"Topic4\", \"Topic4\", \"Topic4\", \"Topic4\", \"Topic4\", \"Topic4\", \"Topic4\", \"Topic4\", \"Topic4\", \"Topic4\", \"Topic4\", \"Topic4\", \"Topic4\", \"Topic4\", \"Topic4\", \"Topic4\", \"Topic4\", \"Topic4\", \"Topic4\", \"Topic5\", \"Topic5\", \"Topic5\", \"Topic5\", \"Topic5\", \"Topic5\", \"Topic5\", \"Topic5\", \"Topic5\", \"Topic5\", \"Topic5\", \"Topic5\", \"Topic5\", \"Topic5\", \"Topic5\", \"Topic5\", \"Topic5\", \"Topic5\", \"Topic5\", \"Topic5\", \"Topic5\", \"Topic5\", \"Topic5\", \"Topic5\", \"Topic5\", \"Topic5\", \"Topic5\", \"Topic5\", \"Topic5\", \"Topic5\", \"Topic5\", \"Topic5\", \"Topic5\"], \"logprob\": [30.0, 29.0, 28.0, 27.0, 26.0, 25.0, 24.0, 23.0, 22.0, 21.0, 20.0, 19.0, 18.0, 17.0, 16.0, 15.0, 14.0, 13.0, 12.0, 11.0, 10.0, 9.0, 8.0, 7.0, 6.0, 5.0, 4.0, 3.0, 2.0, 1.0, -3.7235, -4.1514, -4.3063, -4.3334, -4.6831, -4.7861, -4.8606, -4.9703, -5.0459, -5.0718, -5.0801, -5.084, -5.084, -5.084, -5.084, -5.084, -5.084, -5.084, -5.1294, -5.1534, -5.147, -5.1577, -5.1577, -5.1577, -5.1577, -5.1577, -5.1577, -5.1588, -5.177, -5.1808, -3.3338, -4.1212, -4.9736, -4.8695, -4.939, -5.073, -2.699, -3.7837, -4.3976, -4.4405, -4.8155, -4.8737, -5.0987, -5.1246, -5.1327, -5.1334, -5.1363, -5.2354, -5.214, -5.2828, -5.2859, -5.3147, -5.1001, -5.3592, -5.3623, -5.3623, -5.3973, -5.3973, -5.3973, -5.4426, -5.4426, -5.4426, -5.4517, -5.4648, -5.4749, -5.4749, -4.4333, -4.6126, -3.9281, -4.6735, -5.2993, -4.884, -5.3688, -5.2982, -5.3576, -5.3459, -3.75, -4.5614, -4.7425, -4.8019, -4.9129, -4.9013, -4.9176, -5.0109, -5.1911, -5.1911, -5.1911, -5.1975, -5.1736, -5.2102, -5.2102, -5.2608, -5.2622, -5.2622, -5.2622, -5.2622, -5.2622, -5.2626, -5.2027, -5.2653, -5.291, -5.291, -5.291, -5.291, -5.291, -5.3146, -4.0809, -4.8992, -5.0201, -4.8406, -5.2853, -3.3836, -3.3836, -3.5465, -3.6724, -4.3839, -4.477, -4.6174, -4.764, -4.7641, -4.8788, -5.0695, -5.0825, -5.1635, -5.1637, -5.1681, -5.1681, -5.1681, -5.1922, -5.1922, -5.3864, -5.4166, -5.483, -5.6007, -5.6007, -5.6007, -5.6225, -5.6225, -5.6291, -5.6372, -5.6623, -5.6203, -3.3251, -4.4992, -4.3906, -4.673, -5.1739, -5.355, -3.7855, -4.3374, -4.4464, -4.5786, -4.733, -4.7552, -4.8248, -4.8437, -4.8955, -4.8972, -4.7722, -4.9565, -4.9565, -4.9626, -5.0163, -5.0163, -5.0379, -5.0379, -5.0379, -5.1643, -5.2269, -5.2269, -5.2269, -5.2218, -5.255, -5.2954, -5.3197, -5.3525, -5.3525, -5.3525, -4.2326, -4.7108, -5.2092], \"loglift\": [30.0, 29.0, 28.0, 27.0, 26.0, 25.0, 24.0, 23.0, 22.0, 21.0, 20.0, 19.0, 18.0, 17.0, 16.0, 15.0, 14.0, 13.0, 12.0, 11.0, 10.0, 9.0, 8.0, 7.0, 6.0, 5.0, 4.0, 3.0, 2.0, 1.0, 1.4701, 1.4678, 1.4669, 1.4667, 1.4631, 1.4622, 1.4614, 1.4599, 1.4587, 1.4585, 1.4583, 1.4583, 1.4583, 1.4583, 1.4583, 1.4583, 1.4583, 1.4583, 1.4575, 1.4571, 1.4571, 1.4571, 1.4571, 1.4571, 1.4571, 1.4571, 1.4571, 1.4569, 1.4567, 1.4567, 1.0417, 0.9382, 1.1782, 0.8615, 0.4748, 0.8913, 1.4959, 1.4926, 1.4883, 1.4882, 1.4836, 1.4831, 1.4795, 1.4791, 1.4788, 1.4788, 1.4788, 1.4769, 1.4767, 1.4759, 1.4759, 1.475, 1.4749, 1.4742, 1.4742, 1.4742, 1.4733, 1.4733, 1.4733, 1.4722, 1.4722, 1.4722, 1.472, 1.4717, 1.4714, 1.4714, 1.2007, 1.1739, 0.4473, 0.7403, 1.2926, 0.6334, 1.1122, 0.6662, 0.9977, -0.2865, 1.6177, 1.6113, 1.6088, 1.6079, 1.6062, 1.6062, 1.6058, 1.6045, 1.6009, 1.6009, 1.6009, 1.6007, 1.6007, 1.6005, 1.6005, 1.5994, 1.5993, 1.5993, 1.5993, 1.5993, 1.5993, 1.5993, 1.5992, 1.5991, 1.5986, 1.5986, 1.5986, 1.5986, 1.5986, 1.5981, 1.4406, 0.8318, 0.8577, 0.2188, 1.3271, 1.6787, 1.6787, 1.6778, 1.6772, 1.6713, 1.6701, 1.6683, 1.666, 1.6659, 1.6639, 1.66, 1.6596, 1.6577, 1.6577, 1.6576, 1.6576, 1.6576, 1.6568, 1.6568, 1.6515, 1.6506, 1.6484, 1.6442, 1.6442, 1.6442, 1.6434, 1.6434, 1.6429, 1.6428, 1.6418, 1.6417, 1.5621, 1.4678, 1.1269, 1.2442, 1.3501, 1.215, 1.7989, 1.7936, 1.7924, 1.7905, 1.7878, 1.7874, 1.7861, 1.7858, 1.7846, 1.7845, 1.7839, 1.7834, 1.7834, 1.7826, 1.782, 1.782, 1.7815, 1.7815, 1.7815, 1.7782, 1.7764, 1.7764, 1.7764, 1.7761, 1.7742, 1.7738, 1.7735, 1.7725, 1.7725, 1.7725, 1.4678, 1.1671, 0.4248]}, \"token.table\": {\"Topic\": [3, 1, 5, 2, 2, 3, 5, 3, 1, 2, 3, 4, 3, 1, 5, 2, 1, 3, 4, 1, 1, 3, 4, 4, 2, 5, 3, 5, 3, 4, 4, 1, 2, 1, 2, 3, 4, 4, 2, 1, 3, 1, 3, 2, 3, 3, 4, 4, 2, 1, 2, 4, 4, 3, 1, 1, 4, 1, 3, 3, 1, 3, 1, 1, 4, 3, 3, 5, 1, 3, 5, 1, 5, 1, 4, 1, 5, 5, 1, 3, 5, 1, 1, 3, 4, 4, 4, 1, 5, 3, 2, 1, 3, 4, 5, 5, 2, 4, 1, 1, 2, 2, 5, 5, 5, 5, 4, 3, 5, 3, 1, 3, 2, 4, 4, 2, 1, 3, 2, 5, 5, 1, 2, 3, 1, 2, 4, 2, 3, 2, 3, 4, 3, 4, 1, 2, 5, 1, 4, 2, 2, 2, 3, 4, 3, 1, 2, 5, 5, 2, 5, 1, 2, 4, 2, 2, 5, 4, 4, 5, 4, 1, 2, 2, 2, 4, 5, 2, 4, 3, 3, 1, 2, 3, 4, 3, 5, 2, 4, 2, 5, 2, 5, 5, 1, 4, 2, 2, 5, 5, 3, 1, 4, 4, 1, 1], \"Freq\": [0.9855123992295206, 0.2834461758215255, 0.7135024425852193, 0.9853408585427248, 0.9876941079546157, 0.9933631066825098, 0.9874810578124793, 0.9630877389564129, 0.9753524108113844, 0.9730583294152498, 0.35209751310921766, 0.6434885584409841, 0.9630877389564129, 0.9755745810196341, 0.9874810578124793, 0.9842886181954673, 0.9755745810196341, 0.7542708283479141, 0.24331317043481102, 0.9861505209129364, 0.9755745810196341, 0.26726233758722234, 0.7126995668992595, 0.9957886416772732, 0.7408256183659339, 0.24694187278864463, 0.9630877389564129, 0.9711677837182952, 0.9630877389564129, 0.9486577439403874, 0.9637276416474116, 0.2986846967724939, 0.6827078783371289, 0.26634158156058546, 0.7244491018447924, 0.9899632375650779, 0.9812150122569849, 0.9783132389518202, 0.9756007930070163, 0.163459450332086, 0.8336431966936386, 0.9753524108113844, 0.9703529639923003, 0.9853408585427248, 0.9874538234236642, 0.9761517081705894, 0.9731353305845096, 0.9757844027687451, 0.976499280707449, 0.6495245017791605, 0.35074323096074667, 0.9637276431093752, 0.9863529550350082, 0.9663327796062325, 0.9753524108113844, 0.9753524108113844, 0.9411201348021845, 0.9714236122873987, 0.9790638099049266, 0.9790638099049266, 0.9755745810196341, 0.9859043018493996, 0.9753524108113844, 0.1914090747433806, 0.8039181139221985, 0.9725936559333539, 0.9950943586399182, 0.9919550804532, 0.9951303595777421, 0.9899632375650779, 0.9725618968584245, 0.9724561641014421, 0.9838009662708564, 0.9753524108113844, 0.9895517341273543, 0.9892989465442366, 0.9750109022401433, 0.9899973823820042, 0.5441705754269731, 0.45347547952247763, 0.96046444778648, 0.9880740868906313, 0.9912342238514565, 0.9679602001916477, 0.9717613385001357, 0.9617188900792911, 0.9827949435205197, 0.9753524108113844, 0.9815924606632886, 0.9932493405751616, 0.9723757393107966, 0.736769617544568, 0.245589872514856, 0.9894422968742119, 0.990917580139565, 0.9750109022401433, 0.9976605272871089, 0.9965494272051675, 0.9755745810196341, 0.992194351304434, 0.9741085879430219, 0.9633131747600618, 0.9717731301079321, 0.9669114934266101, 0.9674001543593524, 0.9669114934266101, 0.9617188900792911, 0.9675954602683624, 0.992224187239016, 0.9675954602683624, 0.9827352338908787, 0.9793634412246488, 0.9876941079546157, 0.9820642854705439, 0.9846822124390409, 0.9876941079546157, 0.9936598148807239, 0.9630877389564129, 0.9758868658583014, 0.9889828984868401, 0.9711677837182952, 0.9729726213179513, 0.8105007174802477, 0.1668677947753451, 0.13170971486415492, 0.6021015536647082, 0.26341942972830984, 0.9857147162927968, 0.9675954602683624, 0.9876952995500428, 0.34982665724566964, 0.6296879830422053, 0.9703939041714283, 0.969507714147189, 0.36691813143158747, 0.46965520823243195, 0.16144397782989847, 0.9830644137020483, 0.9965494272051675, 0.9888221827653861, 0.976499280707449, 0.9887049830068817, 0.9668656540146914, 0.9731331002715101, 0.9675954602683624, 0.9942327758218641, 0.9946552413585066, 0.9921996115266548, 0.9893007274269999, 0.976499280707449, 0.9596965714107899, 0.9941766829571985, 0.9781984239993924, 0.9585070370187526, 0.9797899201600251, 0.9741085879430219, 0.975699777954603, 0.9863527993151775, 0.9680946834013928, 0.9658685922344069, 0.9910100011141642, 0.5599716559754113, 0.4327053705264542, 0.9711219671935876, 0.9735523746369011, 0.9892515678558897, 0.976825658809707, 0.4232611808179698, 0.5697746664857286, 0.9899632375650779, 0.9675954602683624, 0.5869118049301567, 0.1698955224797822, 0.2471207599705923, 0.9820642854705439, 0.466864206418335, 0.5252222322206268, 0.11269433054842092, 0.8842170550722257, 0.9875719874311993, 0.9674001543593524, 0.9977470870025992, 0.9711677837182952, 0.9880027474338489, 0.9755745810196341, 0.9617188900792911, 0.9679435723251653, 0.9883216609789355, 0.9874810578124793, 0.9750109022401433, 0.9752628913388413, 0.9804583420516416, 0.9930692937467605, 0.963727869227931, 0.976487952325226, 0.9934605697383888], \"Term\": [\"abv_brodersbrewe\", \"adventure\", \"adventure\", \"advertising_license\", \"africa_animal\", \"airline_flight\", \"airports_liker\", \"ale\", \"almost_week\", \"amazing\", \"amp\", \"amp\", \"amp_wheat\", \"art_artist\", \"aviation\", \"awesome\", \"awrdj\", \"bad\", \"bad\", \"bali\", \"bamboo\", \"barbado\", \"barbado\", \"beach\", \"beautiful\", \"beautiful\", \"beer_taste\", \"belgium_business\", \"berry_wheat\", \"biov\", \"bitcoin\", \"bless\", \"bless\", \"book\", \"book\", \"booked_week\", \"break\", \"breakfast\", \"building\", \"caribbean\", \"caribbean\", \"choose_bali\", \"city\", \"cityscape\", \"craftbeer\", \"cruise\", \"cruise_cruise\", \"cyclade\", \"cyclades_bluestarferrie\", \"day\", \"day\", \"dbum_kfkkn\", \"dbum_kwvcl\", \"destination\", \"disney_bali\", \"disney_world\", \"diving\", \"do\", \"dollywood\", \"dollywood_family\", \"done_fre\", \"drink\", \"either_spend\", \"enjoy\", \"enjoy\", \"ever\", \"experience\", \"explore_travele\", \"family\", \"favourite_spot\", \"feel\", \"first\", \"first_time\", \"five_day\", \"flight\", \"forward\", \"fun_unexpecte\", \"future_book\", \"get\", \"get\", \"getaway\", \"go\", \"good\", \"good_morne\", \"gran_trueno\", \"great_smoky\", \"greece_holiday\", \"greed\", \"hanakapiai_fall\", \"happy\", \"head\", \"help\", \"help\", \"help_support\", \"hike\", \"historical_trinangle\", \"holiday\", \"holidays_resort\", \"hornaday\", \"hotel\", \"hour_journey\", \"hwelzsefl\", \"info\", \"instagood_wanderlust\", \"instagram_landscape\", \"instatravel_adventure\", \"iox\", \"iq_jdsukwy\", \"island\", \"islandlife_surfe\", \"jazz\", \"join\", \"jqo_jfxx\", \"kalimera\", \"kalimera_cyclade\", \"kenya\", \"know\", \"label_art\", \"last\", \"life\", \"london_uktourism\", \"long\", \"love\", \"love\", \"make\", \"make\", \"make\", \"maldive\", \"maldives_drone\", \"memorable\", \"month\", \"month\", \"morning\", \"mountain\", \"nature\", \"nature\", \"nature\", \"need\", \"nft_nft\", \"night\", \"ogetetyczj\", \"osei_amp\", \"pakistan_familytime\", \"panama_airline\", \"panoramic_view\", \"pass\", \"photo\", \"photography\", \"picoftheday\", \"piraeus\", \"popular\", \"price\", \"private\", \"reason\", \"relax\", \"relaxing_lunch\", \"resort\", \"routes_operate\", \"san_jose\", \"sea\", \"sea_airport\", \"see\", \"see\", \"shower\", \"start\", \"subscribe\", \"sunset\", \"take\", \"take\", \"theverandah\", \"thulusdhoo_aerial\", \"time\", \"time\", \"time\", \"tinos_tino\", \"today\", \"today\", \"tourism\", \"tourism\", \"trattorialeo_yesilyurtkoyu\", \"traveler_travelle\", \"trip\", \"tripadvisor_staycation\", \"tt_ttot\", \"txwxqlbqyw\", \"ue_owx\", \"vacation\", \"view\", \"views_road\", \"virgina_history\", \"visit\", \"want\", \"wingo_cruise\", \"wingo_route\", \"winter\", \"work\"]}, \"R\": 30, \"lambda.step\": 0.01, \"plot.opts\": {\"xlab\": \"PC1\", \"ylab\": \"PC2\"}, \"topic.order\": [3, 5, 2, 1, 4]};\n",
       "\n",
       "function LDAvis_load_lib(url, callback){\n",
       "  var s = document.createElement('script');\n",
       "  s.src = url;\n",
       "  s.async = true;\n",
       "  s.onreadystatechange = s.onload = callback;\n",
       "  s.onerror = function(){console.warn(\"failed to load library \" + url);};\n",
       "  document.getElementsByTagName(\"head\")[0].appendChild(s);\n",
       "}\n",
       "\n",
       "if(typeof(LDAvis) !== \"undefined\"){\n",
       "   // already loaded: just create the visualization\n",
       "   !function(LDAvis){\n",
       "       new LDAvis(\"#\" + \"ldavis_el449881402193967067043539915332\", ldavis_el449881402193967067043539915332_data);\n",
       "   }(LDAvis);\n",
       "}else if(typeof define === \"function\" && define.amd){\n",
       "   // require.js is available: use it to load d3/LDAvis\n",
       "   require.config({paths: {d3: \"https://d3js.org/d3.v5\"}});\n",
       "   require([\"d3\"], function(d3){\n",
       "      window.d3 = d3;\n",
       "      LDAvis_load_lib(\"https://cdn.jsdelivr.net/gh/bmabey/pyLDAvis@3.3.1/pyLDAvis/js/ldavis.v3.0.0.js\", function(){\n",
       "        new LDAvis(\"#\" + \"ldavis_el449881402193967067043539915332\", ldavis_el449881402193967067043539915332_data);\n",
       "      });\n",
       "    });\n",
       "}else{\n",
       "    // require.js not available: dynamically load d3 & LDAvis\n",
       "    LDAvis_load_lib(\"https://d3js.org/d3.v5.js\", function(){\n",
       "         LDAvis_load_lib(\"https://cdn.jsdelivr.net/gh/bmabey/pyLDAvis@3.3.1/pyLDAvis/js/ldavis.v3.0.0.js\", function(){\n",
       "                 new LDAvis(\"#\" + \"ldavis_el449881402193967067043539915332\", ldavis_el449881402193967067043539915332_data);\n",
       "            })\n",
       "         });\n",
       "}\n",
       "</script>"
      ],
      "text/plain": [
       "PreparedData(topic_coordinates=              x         y  topics  cluster       Freq\n",
       "topic                                                \n",
       "2     -0.113775 -0.114156       1        1  22.894690\n",
       "4     -0.090587 -0.216567       2        1  22.367777\n",
       "1     -0.005971  0.040643       3        1  19.726971\n",
       "0      0.339401  0.010837       4        1  18.581705\n",
       "3     -0.129068  0.279244       5        1  16.428857, topic_info=                      Term        Freq       Total Category  logprob  loglift\n",
       "1334               holiday  461.000000  461.000000  Default  30.0000  30.0000\n",
       "4264       holidays_resort  193.000000  193.000000  Default  29.0000  29.0000\n",
       "4265               nft_nft  193.000000  193.000000  Default  28.0000  28.0000\n",
       "18                     day  384.000000  384.000000  Default  27.0000  27.0000\n",
       "1263               tourism  230.000000  230.000000  Default  26.0000  26.0000\n",
       "...                    ...         ...         ...      ...      ...      ...\n",
       "5071  historical_trinangle   23.801843   24.615109   Topic5  -5.3525   1.7725\n",
       "5072       virgina_history   23.801843   24.615109   Topic5  -5.3525   1.7725\n",
       "313              adventure   72.946388  102.312194   Topic5  -4.2326   1.4678\n",
       "50                   today   45.220071   85.678018   Topic5  -4.7108   1.1671\n",
       "105              beautiful   27.470517  109.337472   Topic5  -5.2092   0.4248\n",
       "\n",
       "[211 rows x 6 columns], token_table=      Topic      Freq                 Term\n",
       "term                                      \n",
       "4596      3  0.985512     abv_brodersbrewe\n",
       "313       1  0.283446            adventure\n",
       "313       5  0.713502            adventure\n",
       "4346      2  0.985341  advertising_license\n",
       "4677      2  0.987694        africa_animal\n",
       "...     ...       ...                  ...\n",
       "446       1  0.980458                 want\n",
       "4273      4  0.993069         wingo_cruise\n",
       "4278      4  0.963728          wingo_route\n",
       "691       1  0.976488               winter\n",
       "522       1  0.993461                 work\n",
       "\n",
       "[196 rows x 3 columns], R=30, lambda_step=0.01, plot_opts={'xlab': 'PC1', 'ylab': 'PC2'}, topic_order=[3, 5, 2, 1, 4])"
      ]
     },
     "execution_count": 16,
     "metadata": {},
     "output_type": "execute_result"
    }
   ],
   "source": [
    "# Visualize the topics\n",
    "pyLDAvis.enable_notebook()\n",
    "vis = pyLDAvis.gensim_models.prepare(lda_model, corpus, id2word)\n",
    "vis"
   ]
  },
  {
   "cell_type": "code",
   "execution_count": 17,
   "id": "55dc4fb7",
   "metadata": {},
   "outputs": [],
   "source": [
    "pyLDAvis.save_html(vis, 'twitter_topic_analysis.html')"
   ]
  },
  {
   "cell_type": "markdown",
   "id": "29ea0e3d",
   "metadata": {},
   "source": [
    "## Recommendar System"
   ]
  },
  {
   "cell_type": "code",
   "execution_count": 80,
   "id": "748d1ac8",
   "metadata": {},
   "outputs": [
    {
     "data": {
      "text/html": [
       "<div>\n",
       "<style scoped>\n",
       "    .dataframe tbody tr th:only-of-type {\n",
       "        vertical-align: middle;\n",
       "    }\n",
       "\n",
       "    .dataframe tbody tr th {\n",
       "        vertical-align: top;\n",
       "    }\n",
       "\n",
       "    .dataframe thead th {\n",
       "        text-align: right;\n",
       "    }\n",
       "</style>\n",
       "<table border=\"1\" class=\"dataframe\">\n",
       "  <thead>\n",
       "    <tr style=\"text-align: right;\">\n",
       "      <th></th>\n",
       "      <th>text</th>\n",
       "      <th>place_full_name</th>\n",
       "    </tr>\n",
       "  </thead>\n",
       "  <tbody>\n",
       "    <tr>\n",
       "      <th>0</th>\n",
       "      <td>The Most Romantic Destinations for Couples  ht...</td>\n",
       "      <td>Washington, USA</td>\n",
       "    </tr>\n",
       "    <tr>\n",
       "      <th>1</th>\n",
       "      <td>Bottlenose dolphins with @HoloHoloKauai https:...</td>\n",
       "      <td>Pacific Ocean</td>\n",
       "    </tr>\n",
       "    <tr>\n",
       "      <th>2</th>\n",
       "      <td>It's finally the day!! Off to Kauai!\\nDan maki...</td>\n",
       "      <td>Billings, MT</td>\n",
       "    </tr>\n",
       "    <tr>\n",
       "      <th>3</th>\n",
       "      <td>Flying into NY!! Look at all the pretty lights...</td>\n",
       "      <td>Queens, NY</td>\n",
       "    </tr>\n",
       "    <tr>\n",
       "      <th>4</th>\n",
       "      <td>What a way to wake up!,The making of the ice c...</td>\n",
       "      <td>Santa Ana, CA</td>\n",
       "    </tr>\n",
       "  </tbody>\n",
       "</table>\n",
       "</div>"
      ],
      "text/plain": [
       "                                                text  place_full_name\n",
       "0  The Most Romantic Destinations for Couples  ht...  Washington, USA\n",
       "1  Bottlenose dolphins with @HoloHoloKauai https:...    Pacific Ocean\n",
       "2  It's finally the day!! Off to Kauai!\\nDan maki...     Billings, MT\n",
       "3  Flying into NY!! Look at all the pretty lights...       Queens, NY\n",
       "4  What a way to wake up!,The making of the ice c...    Santa Ana, CA"
      ]
     },
     "execution_count": 80,
     "metadata": {},
     "output_type": "execute_result"
    }
   ],
   "source": [
    "data_by_loc = df.copy()\n",
    "data_by_loc['text']= df.groupby('place_full_name')['text'].transform(lambda x: ','.join(x))\n",
    "data_by_loc = data_by_loc[['text','place_full_name']].drop_duplicates().reset_index(drop=True)\n",
    "data_by_loc.head()"
   ]
  },
  {
   "cell_type": "code",
   "execution_count": 81,
   "id": "3b193c60",
   "metadata": {},
   "outputs": [],
   "source": [
    "corpus_by_loc = create_corpus(data_by_loc.text)"
   ]
  },
  {
   "cell_type": "code",
   "execution_count": 82,
   "id": "1af5f34d",
   "metadata": {},
   "outputs": [],
   "source": [
    "corpus_by_loc_lda = lda_model[corpus_by_loc]"
   ]
  },
  {
   "cell_type": "code",
   "execution_count": 141,
   "id": "7b3a7bfc",
   "metadata": {},
   "outputs": [],
   "source": [
    "data_by_loc_lda = pd.DataFrame(corpus_by_loc_lda)"
   ]
  },
  {
   "cell_type": "code",
   "execution_count": 142,
   "id": "a6e4fee8",
   "metadata": {},
   "outputs": [
    {
     "data": {
      "text/html": [
       "<div>\n",
       "<style scoped>\n",
       "    .dataframe tbody tr th:only-of-type {\n",
       "        vertical-align: middle;\n",
       "    }\n",
       "\n",
       "    .dataframe tbody tr th {\n",
       "        vertical-align: top;\n",
       "    }\n",
       "\n",
       "    .dataframe thead th {\n",
       "        text-align: right;\n",
       "    }\n",
       "</style>\n",
       "<table border=\"1\" class=\"dataframe\">\n",
       "  <thead>\n",
       "    <tr style=\"text-align: right;\">\n",
       "      <th></th>\n",
       "      <th>0</th>\n",
       "      <th>1</th>\n",
       "      <th>2</th>\n",
       "    </tr>\n",
       "  </thead>\n",
       "  <tbody>\n",
       "    <tr>\n",
       "      <th>0</th>\n",
       "      <td>[(0, 0.040303513), (1, 0.28187028), (2, 0.1984...</td>\n",
       "      <td>[(0, [4, 1, 2, 0, 3]), (1, [1, 4, 2]), (2, [1]...</td>\n",
       "      <td>[(0, [(0, 0.020836521), (1, 0.30690393), (2, 0...</td>\n",
       "    </tr>\n",
       "    <tr>\n",
       "      <th>1</th>\n",
       "      <td>[(0, 0.07161718), (2, 0.07851961), (4, 0.83865...</td>\n",
       "      <td>[(57, [4]), (67, [4]), (68, [4]), (69, [4, 2])...</td>\n",
       "      <td>[(57, [(4, 0.9999505)]), (67, [(4, 0.9988905)]...</td>\n",
       "    </tr>\n",
       "    <tr>\n",
       "      <th>2</th>\n",
       "      <td>[(0, 0.012771142), (1, 0.012037741), (2, 0.011...</td>\n",
       "      <td>[(70, [4, 3]), (75, [4, 3]), (81, [3]), (82, [...</td>\n",
       "      <td>[(70, [(3, 0.23725185), (4, 0.6297683)]), (75,...</td>\n",
       "    </tr>\n",
       "    <tr>\n",
       "      <th>3</th>\n",
       "      <td>[(0, 0.114839934), (2, 0.05431315), (3, 0.1642...</td>\n",
       "      <td>[(0, [4, 3, 0, 2]), (3, [4, 3, 0, 2]), (18, [4...</td>\n",
       "      <td>[(0, [(0, 0.07500545), (2, 0.05247782), (3, 0....</td>\n",
       "    </tr>\n",
       "    <tr>\n",
       "      <th>4</th>\n",
       "      <td>[(0, 0.080583505), (1, 0.22797517), (2, 0.4385...</td>\n",
       "      <td>[(35, [4]), (75, [2, 4, 1, 3, 0]), (133, [2, 1...</td>\n",
       "      <td>[(35, [(4, 0.9984949)]), (75, [(0, 0.026714277...</td>\n",
       "    </tr>\n",
       "    <tr>\n",
       "      <th>...</th>\n",
       "      <td>...</td>\n",
       "      <td>...</td>\n",
       "      <td>...</td>\n",
       "    </tr>\n",
       "    <tr>\n",
       "      <th>770</th>\n",
       "      <td>[(0, 0.5502151), (2, 0.4319763)]</td>\n",
       "      <td>[(28, [0, 2]), (58, [2, 0]), (140, [2, 0]), (2...</td>\n",
       "      <td>[(28, [(0, 1.8791203), (2, 0.0933777)]), (58, ...</td>\n",
       "    </tr>\n",
       "    <tr>\n",
       "      <th>771</th>\n",
       "      <td>[(0, 0.021037983), (1, 0.019828629), (2, 0.914...</td>\n",
       "      <td>[(2497, [2]), (3035, [2]), (5305, [2])]</td>\n",
       "      <td>[(2497, [(2, 0.9724665)]), (3035, [(2, 2.71109...</td>\n",
       "    </tr>\n",
       "    <tr>\n",
       "      <th>772</th>\n",
       "      <td>[(0, 0.034875106), (1, 0.032871824), (2, 0.858...</td>\n",
       "      <td>[(104, [2])]</td>\n",
       "      <td>[(104, [(2, 2.609459)])]</td>\n",
       "    </tr>\n",
       "    <tr>\n",
       "      <th>773</th>\n",
       "      <td>[(0, 0.01359234), (1, 0.012812037), (2, 0.9448...</td>\n",
       "      <td>[(24, [2]), (70, [2])]</td>\n",
       "      <td>[(24, [(2, 3.9997163)]), (70, [(2, 3.5464509)])]</td>\n",
       "    </tr>\n",
       "    <tr>\n",
       "      <th>774</th>\n",
       "      <td>[(0, 0.024203239), (1, 0.02281427), (2, 0.9019...</td>\n",
       "      <td>[(5306, [2]), (5307, [2]), (5308, [2]), (5309,...</td>\n",
       "      <td>[(5306, [(2, 0.9996219)]), (5307, [(2, 0.99949...</td>\n",
       "    </tr>\n",
       "  </tbody>\n",
       "</table>\n",
       "<p>775 rows × 3 columns</p>\n",
       "</div>"
      ],
      "text/plain": [
       "                                                     0  \\\n",
       "0    [(0, 0.040303513), (1, 0.28187028), (2, 0.1984...   \n",
       "1    [(0, 0.07161718), (2, 0.07851961), (4, 0.83865...   \n",
       "2    [(0, 0.012771142), (1, 0.012037741), (2, 0.011...   \n",
       "3    [(0, 0.114839934), (2, 0.05431315), (3, 0.1642...   \n",
       "4    [(0, 0.080583505), (1, 0.22797517), (2, 0.4385...   \n",
       "..                                                 ...   \n",
       "770                   [(0, 0.5502151), (2, 0.4319763)]   \n",
       "771  [(0, 0.021037983), (1, 0.019828629), (2, 0.914...   \n",
       "772  [(0, 0.034875106), (1, 0.032871824), (2, 0.858...   \n",
       "773  [(0, 0.01359234), (1, 0.012812037), (2, 0.9448...   \n",
       "774  [(0, 0.024203239), (1, 0.02281427), (2, 0.9019...   \n",
       "\n",
       "                                                     1  \\\n",
       "0    [(0, [4, 1, 2, 0, 3]), (1, [1, 4, 2]), (2, [1]...   \n",
       "1    [(57, [4]), (67, [4]), (68, [4]), (69, [4, 2])...   \n",
       "2    [(70, [4, 3]), (75, [4, 3]), (81, [3]), (82, [...   \n",
       "3    [(0, [4, 3, 0, 2]), (3, [4, 3, 0, 2]), (18, [4...   \n",
       "4    [(35, [4]), (75, [2, 4, 1, 3, 0]), (133, [2, 1...   \n",
       "..                                                 ...   \n",
       "770  [(28, [0, 2]), (58, [2, 0]), (140, [2, 0]), (2...   \n",
       "771            [(2497, [2]), (3035, [2]), (5305, [2])]   \n",
       "772                                       [(104, [2])]   \n",
       "773                             [(24, [2]), (70, [2])]   \n",
       "774  [(5306, [2]), (5307, [2]), (5308, [2]), (5309,...   \n",
       "\n",
       "                                                     2  \n",
       "0    [(0, [(0, 0.020836521), (1, 0.30690393), (2, 0...  \n",
       "1    [(57, [(4, 0.9999505)]), (67, [(4, 0.9988905)]...  \n",
       "2    [(70, [(3, 0.23725185), (4, 0.6297683)]), (75,...  \n",
       "3    [(0, [(0, 0.07500545), (2, 0.05247782), (3, 0....  \n",
       "4    [(35, [(4, 0.9984949)]), (75, [(0, 0.026714277...  \n",
       "..                                                 ...  \n",
       "770  [(28, [(0, 1.8791203), (2, 0.0933777)]), (58, ...  \n",
       "771  [(2497, [(2, 0.9724665)]), (3035, [(2, 2.71109...  \n",
       "772                           [(104, [(2, 2.609459)])]  \n",
       "773   [(24, [(2, 3.9997163)]), (70, [(2, 3.5464509)])]  \n",
       "774  [(5306, [(2, 0.9996219)]), (5307, [(2, 0.99949...  \n",
       "\n",
       "[775 rows x 3 columns]"
      ]
     },
     "execution_count": 142,
     "metadata": {},
     "output_type": "execute_result"
    }
   ],
   "source": [
    "data_by_loc_lda"
   ]
  },
  {
   "cell_type": "code",
   "execution_count": 143,
   "id": "67fd9526",
   "metadata": {},
   "outputs": [],
   "source": [
    "data_by_loc_lda_df = pd.DataFrame.from_records(data_by_loc_lda[0].apply(lambda x : {val[0]:val[1] for val in x}))\n",
    "data_by_loc_lda_df.columns = ['group_1','group_2','group_3','group_4','group_5']"
   ]
  },
  {
   "cell_type": "code",
   "execution_count": 144,
   "id": "60806ae1",
   "metadata": {},
   "outputs": [
    {
     "data": {
      "text/plain": [
       "0      group_5\n",
       "1      group_5\n",
       "2      group_5\n",
       "3      group_5\n",
       "4      group_3\n",
       "        ...   \n",
       "770    group_1\n",
       "771    group_3\n",
       "772    group_3\n",
       "773    group_3\n",
       "774    group_3\n",
       "Length: 775, dtype: object"
      ]
     },
     "execution_count": 144,
     "metadata": {},
     "output_type": "execute_result"
    }
   ],
   "source": [
    "data_by_loc_lda_df.idxmax(axis=1)"
   ]
  },
  {
   "cell_type": "code",
   "execution_count": 145,
   "id": "a272fe8d",
   "metadata": {},
   "outputs": [],
   "source": [
    "data_by_loc['group']=data_by_loc_lda_df.idxmax(axis=1)"
   ]
  },
  {
   "cell_type": "code",
   "execution_count": 147,
   "id": "628ff281",
   "metadata": {},
   "outputs": [],
   "source": [
    "data_by_loc.to_csv('place_groups')"
   ]
  },
  {
   "cell_type": "code",
   "execution_count": null,
   "id": "3de4ef5c",
   "metadata": {},
   "outputs": [],
   "source": []
  }
 ],
 "metadata": {
  "kernelspec": {
   "display_name": "Python 3",
   "language": "python",
   "name": "python3"
  },
  "language_info": {
   "codemirror_mode": {
    "name": "ipython",
    "version": 3
   },
   "file_extension": ".py",
   "mimetype": "text/x-python",
   "name": "python",
   "nbconvert_exporter": "python",
   "pygments_lexer": "ipython3",
   "version": "3.8.12"
  }
 },
 "nbformat": 4,
 "nbformat_minor": 5
}
